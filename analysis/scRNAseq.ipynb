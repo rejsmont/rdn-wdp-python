{
 "cells": [
  {
   "cell_type": "markdown",
   "source": [
    "# Single-cell RNAseq vs imaging\n",
    "\n",
    "First we load the two avaialble eye-disc scRNAseq datasets\n"
   ],
   "metadata": {
    "collapsed": false,
    "pycharm": {
     "name": "#%% md\n"
    }
   }
  },
  {
   "cell_type": "code",
   "execution_count": 1,
   "metadata": {
    "collapsed": true,
    "pycharm": {
     "is_executing": false,
     "name": "#%%\n"
    }
   },
   "outputs": [],
   "source": [
    "import chart_studio\n",
    "import plotly.io as pio\n",
    "import plotly.graph_objs as go\n",
    "\n",
    "from matplotlib import pyplot as plt\n",
    "import numpy as np\n",
    "import pandas as pd\n",
    "import scipy\n",
    "import peakutils\n",
    "from rnaseq import RNAseq\n",
    "from rnaseq3 import RNAseq as RNAseq3\n",
    "\n",
    "rnaseq = RNAseq3('/Users/rejsmont/Google Drive File Stream/My Drive/Projects/RDN-WDP/contrib/scRNAseq/EyeAntennal_Combined_DG2_v4.csv')\n",
    "rnaseq3 = RNAseq3('/Users/rejsmont/Google Drive File Stream/My Drive/Projects/RDN-WDP/contrib/GSE115476_RAW/GSM3178869_DMS.expr.txt')\n",
    "aerts = rnaseq.data\n",
    "ariss = rnaseq3.data"
   ]
  },
  {
   "cell_type": "markdown",
   "source": [
    "Now, let's load the imaging data"
   ],
   "metadata": {
    "collapsed": false,
    "pycharm": {
     "name": "#%% md\n"
    }
   }
  },
  {
   "cell_type": "code",
   "execution_count": 2,
   "outputs": [],
   "source": [
    "from data import DiscData, OriginalData\n",
    "from clustering import Clustering, ClusteredData\n",
    "\n",
    "o_data = OriginalData('/Users/rejsmont/Google Drive File Stream/My Drive/Projects/RDN-WDP/processing/samples_complete.csv')\n",
    "data = DiscData(o_data.cells)\n",
    "clustering = Clustering('/Users/rejsmont/Google Drive File Stream/My Drive/Projects/RDN-WDP/processing/clustering/bigc100k6n20r1000_metadata.yml', disc_data=data)\n",
    "clustered = ClusteredData(clustering)"
   ],
   "metadata": {
    "collapsed": false,
    "pycharm": {
     "name": "#%%\n",
     "is_executing": false
    }
   }
  },
  {
   "cell_type": "markdown",
   "source": [
    "Let's now look at the total number of cells and the number of Ato-positive cells"
   ],
   "metadata": {
    "collapsed": false
   }
  },
  {
   "cell_type": "markdown",
   "source": [
    "#### Aerts"
   ],
   "metadata": {
    "collapsed": false,
    "pycharm": {
     "name": "#%% md\n"
    }
   }
  },
  {
   "cell_type": "code",
   "execution_count": 3,
   "outputs": [
    {
     "data": {
      "text/plain": "mean       1.945946\ncount    333.000000\nName: ato, dtype: float64"
     },
     "metadata": {},
     "output_type": "execute_result",
     "execution_count": 3
    }
   ],
   "source": [
    "ato = aerts[(aerts['ato'] > 0)]['ato'].agg(['mean', 'count'])\n",
    "ato"
   ],
   "metadata": {
    "collapsed": false,
    "pycharm": {
     "name": "#%%\n",
     "is_executing": false
    }
   }
  },
  {
   "cell_type": "code",
   "execution_count": 4,
   "outputs": [
    {
     "data": {
      "text/plain": "mean        0.27204\ncount    2382.00000\nName: ato, dtype: float64"
     },
     "metadata": {},
     "output_type": "execute_result",
     "execution_count": 4
    }
   ],
   "source": [
    "total = aerts['ato'].agg(['mean', 'count'])\n",
    "total"
   ],
   "metadata": {
    "collapsed": false,
    "pycharm": {
     "name": "#%%\n",
     "is_executing": false
    }
   }
  },
  {
   "cell_type": "code",
   "execution_count": 5,
   "outputs": [
    {
     "data": {
      "text/plain": "0.1397984886649874"
     },
     "metadata": {},
     "output_type": "execute_result",
     "execution_count": 5
    }
   ],
   "source": [
    "ato.loc['count'] / total.loc['count']"
   ],
   "metadata": {
    "collapsed": false,
    "pycharm": {
     "name": "#%%\n",
     "is_executing": false
    }
   }
  },
  {
   "cell_type": "markdown",
   "source": [
    "#### Ariss"
   ],
   "metadata": {
    "collapsed": false
   }
  },
  {
   "cell_type": "code",
   "execution_count": 6,
   "outputs": [
    {
     "data": {
      "text/plain": "mean       1.207547\ncount    265.000000\nName: ato, dtype: float64"
     },
     "metadata": {},
     "output_type": "execute_result",
     "execution_count": 6
    }
   ],
   "source": [
    "ato = ariss[(ariss['ato'] > 0)]['ato'].agg(['mean', 'count'])\n",
    "ato"
   ],
   "metadata": {
    "collapsed": false,
    "pycharm": {
     "name": "#%%\n",
     "is_executing": false
    }
   }
  },
  {
   "cell_type": "code",
   "execution_count": 7,
   "outputs": [
    {
     "data": {
      "text/plain": "mean         0.013284\ncount    24089.000000\nName: ato, dtype: float64"
     },
     "metadata": {},
     "output_type": "execute_result",
     "execution_count": 7
    }
   ],
   "source": [
    "total = ariss['ato'].agg(['mean', 'count'])\n",
    "total"
   ],
   "metadata": {
    "collapsed": false,
    "pycharm": {
     "name": "#%%\n",
     "is_executing": false
    }
   }
  },
  {
   "cell_type": "code",
   "execution_count": 8,
   "outputs": [
    {
     "data": {
      "text/plain": "0.011000871767196645"
     },
     "metadata": {},
     "output_type": "execute_result",
     "execution_count": 8
    }
   ],
   "source": [
    "ato.loc['count'] / total.loc['count']"
   ],
   "metadata": {
    "collapsed": false,
    "pycharm": {
     "name": "#%%\n",
     "is_executing": false
    }
   }
  },
  {
   "cell_type": "markdown",
   "source": [
    "#### Image"
   ],
   "metadata": {
    "collapsed": false
   }
  },
  {
   "cell_type": "code",
   "execution_count": 9,
   "outputs": [],
   "source": [
    "cells = data.cells()\n",
    "ato_cells = cells[cells['Gene'] == 'ato']\n",
    "x = ato_cells['cy']\n",
    "y = ato_cells['Venus']"
   ],
   "metadata": {
    "collapsed": false,
    "pycharm": {
     "name": "#%%\n",
     "is_executing": false
    }
   }
  },
  {
   "cell_type": "code",
   "execution_count": 10,
   "outputs": [
    {
     "data": {
      "text/plain": "<matplotlib.collections.PathCollection at 0x7fdff8ff8a90>"
     },
     "metadata": {},
     "output_type": "execute_result",
     "execution_count": 10
    },
    {
     "data": {
      "text/plain": "<Figure size 432x288 with 1 Axes>",
      "image/png": "[encoded data removed]"
     },
     "metadata": {
      "needs_background": "light"
     },
     "output_type": "display_data"
    }
   ],
   "source": [
    "fig = plt.figure()\n",
    "ax = fig.add_axes([0,0,1,1])\n",
    "ax.axhline(0.35, c='red')\n",
    "ax.axhline(1.5, c='green')\n",
    "ax.scatter(x, y)"
   ],
   "metadata": {
    "collapsed": false,
    "pycharm": {
     "name": "#%%\n",
     "is_executing": false
    }
   }
  },
  {
   "cell_type": "code",
   "execution_count": 11,
   "outputs": [
    {
     "data": {
      "text/plain": "0.21190078926154365"
     },
     "metadata": {},
     "output_type": "execute_result",
     "execution_count": 11
    }
   ],
   "source": [
    "total = ato_cells.groupby(round(ato_cells['cy']))['Venus'].count()\n",
    "ato = ato_cells[ato_cells['Venus'] > 1.5].groupby(round(ato_cells['cy']))['Venus'].count()\n",
    "ato.sum() / total.sum()"
   ],
   "metadata": {
    "collapsed": false,
    "pycharm": {
     "name": "#%%\n",
     "is_executing": false
    }
   }
  },
  {
   "cell_type": "markdown",
   "source": [
    "Let's look at the number of ato-positive cells within the MF.\n",
    "According to [Ariss et al.](https://www.nature.com/articles/s41467-018-07540-z) MF cells can be identified\n",
    "by the expression of `E(spl)m4-BFM` and `E(spl)mgamma-HLH`."
   ],
   "metadata": {
    "collapsed": false,
    "pycharm": {
     "name": "#%% md\n"
    }
   }
  },
  {
   "cell_type": "markdown",
   "source": [
    "#### Aerts"
   ],
   "metadata": {
    "collapsed": false,
    "pycharm": {
     "name": "#%% md\n"
    }
   }
  },
  {
   "cell_type": "code",
   "execution_count": 12,
   "outputs": [
    {
     "data": {
      "text/plain": "(526, 142, 0.26996197718631176)"
     },
     "metadata": {},
     "output_type": "execute_result",
     "execution_count": 12
    }
   ],
   "source": [
    "mf = aerts[(aerts['E(spl)m4-BFM'] > 0)&(aerts['E(spl)mgamma-HLH'] > 0)]['ato'].count()\n",
    "ato_mf = aerts[(aerts['E(spl)m4-BFM'] > 0)&(aerts['E(spl)mgamma-HLH'] > 0)&(aerts['ato'] > 0)]['ato'].count()\n",
    "(mf, ato_mf, ato_mf / mf)"
   ],
   "metadata": {
    "collapsed": false,
    "pycharm": {
     "name": "#%%\n",
     "is_executing": false
    }
   }
  },
  {
   "cell_type": "markdown",
   "source": [
    "#### Ariss"
   ],
   "metadata": {
    "collapsed": false,
    "pycharm": {
     "name": "#%% md\n"
    }
   }
  },
  {
   "cell_type": "code",
   "execution_count": 13,
   "outputs": [
    {
     "data": {
      "text/plain": "(1551, 77, 0.04964539007092199)"
     },
     "metadata": {},
     "output_type": "execute_result",
     "execution_count": 13
    }
   ],
   "source": [
    "mf = ariss[(ariss['E(spl)m4-BFM'] > 0)&(ariss['E(spl)mgamma-HLH'] > 0)]['ato'].count()\n",
    "ato_mf = ariss[(ariss['E(spl)m4-BFM'] > 0)&(ariss['E(spl)mgamma-HLH'] > 0)&(ariss['ato'] > 0)]['ato'].count()\n",
    "(mf, ato_mf, ato_mf / mf)"
   ],
   "metadata": {
    "collapsed": false,
    "pycharm": {
     "name": "#%%\n",
     "is_executing": false
    }
   }
  },
  {
   "cell_type": "code",
   "execution_count": 13,
   "outputs": [],
   "source": [],
   "metadata": {
    "collapsed": false,
    "pycharm": {
     "name": "#%%\n",
     "is_executing": false
    }
   }
  },
  {
   "cell_type": "markdown",
   "source": [
    "Are there any non-MF ato-positive cells that express elav?"
   ],
   "metadata": {
    "collapsed": false
   }
  },
  {
   "cell_type": "markdown",
   "source": [
    "#### Aerts"
   ],
   "metadata": {
    "collapsed": false
   }
  },
  {
   "cell_type": "code",
   "execution_count": 14,
   "outputs": [
    {
     "data": {
      "text/plain": "(128, 88, 0.6875, 71, 67)"
     },
     "metadata": {},
     "output_type": "execute_result",
     "execution_count": 14
    }
   ],
   "source": [
    "ato = aerts[(aerts['E(spl)m4-BFM'] == 0)&(aerts['E(spl)mgamma-HLH'] == 0)&(aerts['ato'] > 0)]['ato'].count()\n",
    "ato_elav = aerts[(aerts['E(spl)m4-BFM'] == 0)&(aerts['E(spl)mgamma-HLH'] == 0)&(aerts['ato'] > 0)&(aerts['elav'] > 0)]['ato'].count()\n",
    "ato_sens = aerts[(aerts['ato'] > 0)&(aerts['sens'] > 0)]['ato'].count()\n",
    "ato_elav_sens = aerts[(aerts['ato'] > 0)&(aerts['elav'] > 0)&(aerts['sens'] > 0)]['ato'].count()\n",
    "(ato, ato_elav, ato_elav / ato, ato_sens, ato_elav_sens)"
   ],
   "metadata": {
    "collapsed": false,
    "pycharm": {
     "name": "#%%\n",
     "is_executing": false
    }
   }
  },
  {
   "cell_type": "markdown",
   "source": [
    "#### Ariss"
   ],
   "metadata": {
    "collapsed": false
   }
  },
  {
   "cell_type": "code",
   "execution_count": 15,
   "outputs": [
    {
     "data": {
      "text/plain": "(128, 24, 0.1875, 19, 12)"
     },
     "metadata": {},
     "output_type": "execute_result",
     "execution_count": 15
    }
   ],
   "source": [
    "ato = ariss[(ariss['E(spl)m4-BFM'] == 0)&(ariss['E(spl)mgamma-HLH'] == 0)&(ariss['ato'] > 0)]['ato'].count()\n",
    "ato_elav = ariss[(ariss['E(spl)m4-BFM'] == 0)&(ariss['E(spl)mgamma-HLH'] == 0)&(ariss['ato'] > 0)&(ariss['elav'] > 0)]['ato'].count()\n",
    "ato_sens = ariss[(ariss['ato'] > 0)&(ariss['sens'] > 0)]['ato'].count()\n",
    "ato_elav_sens = ariss[(ariss['ato'] > 0)&(ariss['sens'] > 0)&(ariss['elav'] > 0)]['ato'].count()\n",
    "(ato, ato_elav, ato_elav / ato, ato_sens, ato_elav_sens)\n"
   ],
   "metadata": {
    "collapsed": false,
    "pycharm": {
     "name": "#%%\n",
     "is_executing": false
    }
   }
  }
 ],
 "metadata": {
  "kernelspec": {
   "display_name": "Python 3",
   "language": "python",
   "name": "python3"
  },
  "language_info": {
   "codemirror_mode": {
    "name": "ipython",
    "version": 2
   },
   "file_extension": ".py",
   "mimetype": "text/x-python",
   "name": "python",
   "nbconvert_exporter": "python",
   "pygments_lexer": "ipython2",
   "version": "2.7.6"
  },
  "pycharm": {
   "stem_cell": {
    "cell_type": "raw",
    "source": [],
    "metadata": {
     "collapsed": false
    }
   }
  }
 },
 "nbformat": 4,
 "nbformat_minor": 0
}