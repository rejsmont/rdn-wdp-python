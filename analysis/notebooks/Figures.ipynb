{
 "cells": [
  {
   "cell_type": "code",
   "execution_count": 1,
   "metadata": {},
   "outputs": [],
   "source": [
    "import cv2\n",
    "import h5py\n",
    "import io\n",
    "import ipywidgets as widgets\n",
    "import matplotlib.pyplot as plt\n",
    "import numpy as np\n",
    "import os\n",
    "import pandas as pd\n",
    "import scanpy as sc\n",
    "\n",
    "\n",
    "from PIL import Image\n",
    "from scipy import ndimage\n",
    "from skimage import io, filters, morphology, segmentation\n",
    "\n",
    "%matplotlib widget"
   ]
  },
  {
   "cell_type": "code",
   "execution_count": 2,
   "metadata": {},
   "outputs": [],
   "source": [
    "import sys\n",
    "sys.path = ['/Users/rejsmont/PycharmProjects/rdn-wdp-python/analysis'] + sys.path"
   ]
  },
  {
   "cell_type": "code",
   "execution_count": 3,
   "metadata": {},
   "outputs": [],
   "source": [
    "basedir = '/Users/rejsmont/Google Drive/My Drive/Projects/RDN-WDP'"
   ]
  },
  {
   "cell_type": "code",
   "execution_count": 4,
   "metadata": {
    "scrolled": false
   },
   "outputs": [],
   "source": [
    "#rnaseq_file = basedir + '/contrib/scRNAseq/EyeAntennal_Combined_DG2_v4.csv'\n",
    "#rnaseq = RNAseq3(rnaseq_file)\n",
    "#aerts = rnaseq.data\n",
    "\n",
    "#datadir = \"/Users/rejsmont/Google Drive/My Drive/Projects/RDN-WDP/sharing/\"\n",
    "#counts = pd.read_csv(os.path.join(datadir, 'export', 'aerts_counts.csv'), index_col=0)\n",
    "#counts.index = counts.index.astype(str)\n",
    "#genes = counts.columns.to_frame().rename(columns={0: 'gene_ids'})\n",
    "#cells = pd.read_csv(os.path.join(datadir, 'export', 'aerts_cells.csv'), index_col=0) \\\n",
    "#          .iloc[:, 0].str.split(\"-\", n = 1, expand = True) \\\n",
    "#          .rename(columns={0: 'barcode', 1: 'replica'})\n",
    "#cells.index = cells.index.astype(str)\n",
    "#adata = sc.AnnData(X = counts.values, obs = cells, var=genes)\n",
    "#aerts = adata.to_df()"
   ]
  },
  {
   "cell_type": "code",
   "execution_count": 5,
   "metadata": {},
   "outputs": [],
   "source": [
    "aerts = pd.read_csv(os.path.join('r', 'seurat_count.csv')).T"
   ]
  },
  {
   "cell_type": "code",
   "execution_count": 6,
   "metadata": {},
   "outputs": [],
   "source": [
    "ato_iJbqq8 = h5py.File(basedir + '/samples/999_ato_disc_1_iJbqq8.h5', 'r')\n",
    "\n",
    "ato_mcherry = filters.gaussian(np.array(ato_iJbqq8['scaled/mCherry']), 3.0, preserve_range=True).astype(int)\n",
    "\n",
    "ato_venus = np.array(ato_iJbqq8['scaled/Venus'])\n",
    "\n",
    "ato_fish = io.imread('/Users/rejsmont/Desktop/ato smi-FISH/B_ato-mCherry-disc_1.tif')\n",
    "ato_fish = ndimage.rotate(ato_fish, 130.5, (1, 2))\n",
    "ato_fish = filters.gaussian(ato_fish[:,:,:,1], 1, preserve_range=True).astype(int)\n",
    "\n",
    "ato_sa = ndimage.rotate(io.imread('/Users/rejsmont/Desktop/ato smi-FISH/atoSA-Gf7.tif'), 280)\n",
    "ato_sa_mask = ato_sa[:, :, 0]\n",
    "ato_sa_mask = filters.gaussian(ato_sa_mask, 3)\n",
    "ato_sa_mask = ato_sa_mask > filters.threshold_isodata(ato_sa_mask)\n",
    "ato_sa_mask = morphology.remove_small_objects(ato_sa_mask, 1500)\n",
    "ato_sa_mask = filters.gaussian(ato_sa_mask, 10) > 0.25\n",
    "ato_sa_mask = morphology.label(ato_sa_mask)\n",
    "\n",
    "fig_1 = None"
   ]
  },
  {
   "cell_type": "code",
   "execution_count": 7,
   "metadata": {},
   "outputs": [],
   "source": [
    "from CellModels.Clustering.IO import ClusteringReader\n",
    "\n",
    "ato_p = ClusteringReader.read(basedir + '/processing/clustering/bigc100k6n20r1000_metadata.yml')\n",
    "if ato_p is None:\n",
    "    raise Exception\n",
    "ato_t = ClusteringReader.read(basedir + '/clustering-h5/clustering_ato_dae5_s20r1f.h5')"
   ]
  },
  {
   "cell_type": "code",
   "execution_count": 8,
   "metadata": {
    "scrolled": false
   },
   "outputs": [
    {
     "data": {
      "application/vnd.jupyter.widget-view+json": {
       "model_id": "4853922da10c4982b4462a758d6ad81a",
       "version_major": 2,
       "version_minor": 0
      },
      "text/plain": [
       "Canvas(toolbar=Toolbar(toolitems=[('Home', 'Reset original view', 'home', 'home'), ('Back', 'Back to previous …"
      ]
     },
     "metadata": {},
     "output_type": "display_data"
    },
    {
     "name": "stderr",
     "output_type": "stream",
     "text": [
      "<ipython-input-8-9863c71151d6>:139: UserWarning: This figure includes Axes that are not compatible with tight_layout, so results might be incorrect.\n",
      "  gs2.tight_layout(fig_1, rect=[0, .40, 1, .67], h_pad=0, w_pad=0)\n",
      "<ipython-input-8-9863c71151d6>:179: UserWarning: This figure includes Axes that are not compatible with tight_layout, so results might be incorrect.\n",
      "  gs3.tight_layout(fig_1, rect=[0, .13, 1, .40], h_pad=0.2, w_pad=0.2)\n",
      "<ipython-input-8-9863c71151d6>:182: UserWarning: This figure includes Axes that are not compatible with tight_layout, so results might be incorrect.\n",
      "  gs3.tight_layout(fig_1, rect=[0, .1575, 1, .4275], h_pad=0.2, w_pad=0.2, pad=1.2)\n"
     ]
    }
   ],
   "source": [
    "from CellModels.Clustering.Figures import ClusterPlot\n",
    "from CellModels.Cells.Figures import SamplePlot \n",
    "from matplotlib.ticker import MaxNLocator, FixedLocator\n",
    "from mpl_toolkits.axes_grid1.anchored_artists import AnchoredSizeBar\n",
    "import matplotlib.gridspec as gridspec\n",
    "import matplotlib.patheffects as pe\n",
    "\n",
    "def cm2inch(*tupl):\n",
    "    inch = 2.54\n",
    "    if isinstance(tupl[0], tuple):\n",
    "        return tuple(i/inch for i in tupl[0])\n",
    "    else:\n",
    "        return tuple(i/inch for i in tupl)\n",
    "\n",
    "def plotgenes(ds, gene1, gene2, ax=None):\n",
    "    if ax is None:\n",
    "        fig, ax = plt.subplots()\n",
    "    x = ds[gene1] + np.random.normal(0, 0.1, size=len(ds.index)).tolist()\n",
    "    y = ds[gene2] + np.random.normal(0, 0.1, size=len(ds.index)).tolist()\n",
    "    ax.scatter(x, y, alpha=0.1, c='k')\n",
    "    ax.set_xlabel(str(gene1) + ' transcript count')\n",
    "    ax.set_ylabel(str(gene2) + ' transcript count')\n",
    "    ax.yaxis.set_major_locator(MaxNLocator(integer=True))\n",
    "    ax.xaxis.set_major_locator(MaxNLocator(integer=True))\n",
    "    ax.yaxis.set_minor_locator(FixedLocator([0.5]))\n",
    "    ax.xaxis.set_minor_locator(FixedLocator([0.5]))\n",
    "    ax.yaxis.set_tick_params(labelleft=True)\n",
    "    ax.grid(which='minor')\n",
    "    n1 = len(ds[(ds[gene1] > 0)].index)\n",
    "    n2 = len(ds[(ds[gene2] > 0)].index)\n",
    "    n = len(ds[(ds[gene1] > 0) & (ds[gene2] > 0)].index)\n",
    "    ax.text(0.95, 0.95, gene1 + ':' + str(n1) + '\\n' + gene2 + ':' + str(n2) + '\\n' + 'both:' + str(n),\n",
    "        horizontalalignment='right', verticalalignment='top', transform = ax.transAxes)\n",
    "\n",
    "class LinearClusterPlot(ClusterPlot):\n",
    "    def _get_sc_params(self):\n",
    "        return {\n",
    "            'cmap': 'tab10',\n",
    "            's': 40,\n",
    "            'vmin': 0,\n",
    "            'vmax': 1\n",
    "        }\n",
    "\n",
    "class LinearCherrySamplePlot(SamplePlot):\n",
    "    def _get_sc_params(self):\n",
    "        return {\n",
    "            'cmap': 'gray',\n",
    "            'vmin': 0.25,\n",
    "            'vmax': 2,\n",
    "            's': 40\n",
    "        }\n",
    "\n",
    "class LinearVenusSamplePlot(SamplePlot):\n",
    "    def _get_sc_params(self):\n",
    "        return {\n",
    "            'cmap': 'gray',\n",
    "            'vmin': 0,\n",
    "            'vmax': 10,\n",
    "            's': 40\n",
    "        }\n",
    "    \n",
    "if fig_1 is not None:\n",
    "    plt.close(fig_1)\n",
    "fig_1 = plt.figure(figsize=cm2inch(24,24))\n",
    "\n",
    "###\n",
    "### eye disc scRNAseq\n",
    "###\n",
    "gs1 = gridspec.GridSpec(1, 3)\n",
    "# ato vs elav\n",
    "ax = fig_1.add_subplot(gs1[0, 0])\n",
    "plotgenes(aerts, 'ato', 'elav', ax=ax)\n",
    "ax.text(0.05, 0.95, 'A', size=24, horizontalalignment='left', verticalalignment='top', transform = ax.transAxes,\n",
    "        color='k', path_effects=[pe.Stroke(linewidth=5, foreground='w'), pe.Normal()])\n",
    "# ato vs repo\n",
    "ax = fig_1.add_subplot(gs1[0, 1])\n",
    "plotgenes(aerts, 'ato', 'repo', ax=ax)\n",
    "ax.text(0.05, 0.95, 'B', size=24, horizontalalignment='left', verticalalignment='top', transform = ax.transAxes,\n",
    "        color='k', path_effects=[pe.Stroke(linewidth=5, foreground='w'), pe.Normal()])\n",
    "# ato vs da\n",
    "ax = fig_1.add_subplot(gs1[0, 2])\n",
    "plotgenes(aerts, 'ato', 'da', ax=ax)\n",
    "ax.text(0.05, 0.95, 'C', size=24, horizontalalignment='left', verticalalignment='top', transform = ax.transAxes,\n",
    "        color='k', path_effects=[pe.Stroke(linewidth=5, foreground='w'), pe.Normal()])\n",
    "gs1.tight_layout(fig_1, rect=[0, 0.67, 1, 1])\n",
    "\n",
    "###\n",
    "### eye disc imaging\n",
    "###\n",
    "gs2 = gridspec.GridSpec(1, 4, wspace=0, hspace=0)\n",
    "# ato smi-FISH (Voxel size: 0.5687x0.5687x0.3462 micron^3)\n",
    "ax = fig_1.add_subplot(gs2[0, 0])\n",
    "ax.imshow(ato_fish[37], vmin=75, vmax=250, cmap='gray')\n",
    "ax.set_ylim(550, 300)\n",
    "ax.set_xlim(275, 525)\n",
    "scalebar = AnchoredSizeBar(ax.transData, 25/0.5687, None, 'lower left', pad=1,\n",
    "                           color='white', frameon=False, size_vertical=2/0.5687, label_top=True)\n",
    "ax.add_artist(scalebar)\n",
    "ax.text(0.05, 0.95, 'D', size=24, horizontalalignment='left', verticalalignment='top', transform = ax.transAxes,\n",
    "        color='w', path_effects=[pe.Stroke(linewidth=5, foreground='k'), pe.Normal()])\n",
    "ax.set_axis_off()\n",
    "# ato-mCherry (Voxel size: 0.1510x0.1510x0.1500 micrometer^3)\n",
    "ax = fig_1.add_subplot(gs2[0, 1])\n",
    "ax.imshow(ato_mcherry[50] / np.max(ato_mcherry[50]), vmax=0.2, cmap='gray')\n",
    "ax.set_ylim(900, 100)\n",
    "ax.set_xlim(700, 1500)\n",
    "scalebar = AnchoredSizeBar(ax.transData, 25/0.1510, None, 'lower left', pad=1,\n",
    "                           color='white', frameon=False, size_vertical=2/0.1510, label_top=True)\n",
    "ax.add_artist(scalebar)\n",
    "ax.text(0.05, 0.95, 'E', size=24, horizontalalignment='left', verticalalignment='top', transform = ax.transAxes,\n",
    "        color='w', path_effects=[pe.Stroke(linewidth=5, foreground='k'), pe.Normal()])\n",
    "ax.set_axis_off()\n",
    "# ato-T2A-Venus (Voxel size: 0.1510x0.1510x0.1500 micrometer^3)\n",
    "ax = fig_1.add_subplot(gs2[0, 2])\n",
    "ax.imshow(ato_venus[65] / np.max(ato_venus[70]), vmax=0.35, cmap='gray')\n",
    "ax.set_ylim(900, 100)\n",
    "ax.set_xlim(700, 1500)\n",
    "scalebar = AnchoredSizeBar(ax.transData, 25/0.1510, None, 'lower left', pad=1,\n",
    "                           color='white', frameon=False, size_vertical=2/0.1510, label_top=True)\n",
    "ax.add_artist(scalebar)\n",
    "ax.text(0.05, 0.95, 'F', size=24, horizontalalignment='left', verticalalignment='top', transform = ax.transAxes,\n",
    "        color='w', path_effects=[pe.Stroke(linewidth=5, foreground='k'), pe.Normal()])\n",
    "ax.set_axis_off()\n",
    "# ato S->A (Voxel size: 0.1328x0.1328x1 micron^3) - wrong scale - 1.75x underscan\n",
    "ax = fig_1.add_subplot(gs2[0, 3])\n",
    "ax.imshow(ato_sa[:, :, 1], cmap='gray', vmax=2000)\n",
    "ax.set_ylim(875, 375)\n",
    "ax.set_xlim(300, 800)\n",
    "for i in range(1, ato_sa_mask.max() + 1):\n",
    "    label = (ato_sa_mask == i).astype('uint8')\n",
    "    points, _ = cv2.findContours(label, cv2.RETR_EXTERNAL, cv2.CHAIN_APPROX_NONE)\n",
    "    ax.fill(points[0][:,0,0], points[0][:,0,1], facecolor='none', edgecolor='white', ls='--')\n",
    "scalebar = AnchoredSizeBar(ax.transData, 25/(0.1328*1.75), None, 'lower left', pad=1,\n",
    "                           color='white', frameon=False, size_vertical=2/(0.1328*1.75), label_top=True)\n",
    "ax.add_artist(scalebar)\n",
    "ax.text(0.05, 0.95, 'G', size=24, horizontalalignment='left', verticalalignment='top', transform = ax.transAxes,\n",
    "        color='w', path_effects=[pe.Stroke(linewidth=5, foreground='k'), pe.Normal()])\n",
    "ax.set_axis_off()\n",
    "gs2.tight_layout(fig_1, rect=[0, .40, 1, .67], h_pad=0, w_pad=0)\n",
    "\n",
    "\n",
    "gs3 = gridspec.GridSpec(1, 4, wspace=0, hspace=0)\n",
    "\n",
    "ax = fig_1.add_subplot(gs3[0, 0])\n",
    "LinearCherrySamplePlot(ato_p, 'p5dvda', ('Measurements', 'Normalized', 'mCherry')).plot_axes(ax)\n",
    "ax.set_xlim(10, 35)\n",
    "ax.set_ylim(20, -5)\n",
    "ax.hlines(0, 10, 35, ls='dotted', color='r')\n",
    "ax.text(0.05, 0.95, 'H', size=24, horizontalalignment='left', verticalalignment='top', transform = ax.transAxes,\n",
    "        color='w', path_effects=[pe.Stroke(linewidth=5, foreground='k'), pe.Normal()])\n",
    "ax.set_axis_off()\n",
    "\n",
    "ax = fig_1.add_subplot(gs3[0, 1])\n",
    "LinearClusterPlot(ato_p, 'p5dvda', ('Cluster', 'ward', 6)).plot_axes(ax)\n",
    "ax.set_xlim(10, 35)\n",
    "ax.set_ylim(20, -5)\n",
    "ax.hlines(0, 10, 35, ls='dotted', color='k')\n",
    "ax.text(0.05, 0.95, 'I', size=24, horizontalalignment='left', verticalalignment='top', transform = ax.transAxes,\n",
    "        color='k', path_effects=[pe.Stroke(linewidth=5, foreground='w'), pe.Normal()])\n",
    "ax.set_axis_off()\n",
    "\n",
    "ax = fig_1.add_subplot(gs3[0, 2])\n",
    "LinearVenusSamplePlot(ato_p, 'p5dvda', ('Measurements', 'Normalized', 'Venus')).plot_axes(ax)\n",
    "ax.set_xlim(10, 35)\n",
    "ax.set_ylim(20, -5)\n",
    "ax.hlines(0, 10, 35, ls='dotted', color='r')\n",
    "ax.text(0.05, 0.95, 'J', size=24, horizontalalignment='left', verticalalignment='top', transform = ax.transAxes,\n",
    "        color='w', path_effects=[pe.Stroke(linewidth=5, foreground='k'), pe.Normal()])\n",
    "ax.set_axis_off()\n",
    "\n",
    "ax = fig_1.add_subplot(gs3[0, 3])\n",
    "LinearClusterPlot(ato_t, 'p5dvda', ('Cluster', 'ward', 5)).plot_axes(ax)\n",
    "ax.set_xlim(10, 35)\n",
    "ax.set_ylim(20, -5)\n",
    "ax.hlines(0, 10, 35, ls='dotted', color='k')\n",
    "ax.text(0.05, 0.95, 'K', size=24, horizontalalignment='left', verticalalignment='top', transform = ax.transAxes,\n",
    "        color='k', path_effects=[pe.Stroke(linewidth=5, foreground='w'), pe.Normal()])\n",
    "ax.set_axis_off()\n",
    "gs3.tight_layout(fig_1, rect=[0, .13, 1, .40], h_pad=0.2, w_pad=0.2)\n",
    "\n",
    "\n",
    "gs3.tight_layout(fig_1, rect=[0, .1575, 1, .4275], h_pad=0.2, w_pad=0.2, pad=1.2)"
   ]
  },
  {
   "cell_type": "code",
   "execution_count": 9,
   "metadata": {},
   "outputs": [],
   "source": [
    "fig_1.savefig('fig_1.pdf')"
   ]
  },
  {
   "cell_type": "code",
   "execution_count": 10,
   "metadata": {},
   "outputs": [
    {
     "data": {
      "text/plain": [
       "[None, None, None, 1, 1]"
      ]
     },
     "execution_count": 10,
     "metadata": {},
     "output_type": "execute_result"
    }
   ],
   "source": [
    "ll = [1, None, 4, 5, 6]\n",
    "lt = len(ll)\n",
    "if ll:\n",
    "    lx = [None] + [ll[i+1] - ll[i] if ll[i+1] is not None and ll[i] is not None else None for i in range(lt-1)]\n",
    "else:\n",
    "    lx = []\n",
    "lx"
   ]
  },
  {
   "cell_type": "code",
   "execution_count": 11,
   "metadata": {},
   "outputs": [],
   "source": [
    "ariss = pd.read_csv(os.path.join('/Users/rejsmont/Google Drive/My Drive/Projects/RDN-WDP/contrib/GSE115476_RAW',\n",
    "                                 'GSM3178869_DMS.expr.txt'))\n",
    "fig_2 = None"
   ]
  },
  {
   "cell_type": "code",
   "execution_count": 13,
   "metadata": {},
   "outputs": [
    {
     "data": {
      "application/vnd.jupyter.widget-view+json": {
       "model_id": "113a3cd5afad4a029ecb5f0ec2a94462",
       "version_major": 2,
       "version_minor": 0
      },
      "text/plain": [
       "Canvas(toolbar=Toolbar(toolitems=[('Home', 'Reset original view', 'home', 'home'), ('Back', 'Back to previous …"
      ]
     },
     "metadata": {},
     "output_type": "display_data"
    },
    {
     "name": "stderr",
     "output_type": "stream",
     "text": [
      "<ipython-input-13-9f85ae4880a7>:24: UserWarning: This figure includes Axes that are not compatible with tight_layout, so results might be incorrect.\n",
      "  gs1.tight_layout(fig_1, rect=[0, 0.67, 1, 1])\n"
     ]
    }
   ],
   "source": [
    "if fig_2 is not None:\n",
    "    plt.close(fig_2)\n",
    "fig_2 = plt.figure(figsize=cm2inch(24,8))\n",
    "\n",
    "###\n",
    "### eye disc scRNAseq\n",
    "###\n",
    "gs2 = gridspec.GridSpec(1, 3)\n",
    "# ato vs elav\n",
    "ax = fig_2.add_subplot(gs2[0, 0])\n",
    "plotgenes(ariss, 'ato', 'elav', ax=ax)\n",
    "ax.text(0.05, 0.95, 'A', size=24, horizontalalignment='left', verticalalignment='top', transform = ax.transAxes,\n",
    "        color='k', path_effects=[pe.Stroke(linewidth=5, foreground='w'), pe.Normal()])\n",
    "# ato vs repo\n",
    "ax = fig_2.add_subplot(gs2[0, 1])\n",
    "plotgenes(ariss, 'ato', 'repo', ax=ax)\n",
    "ax.text(0.05, 0.95, 'B', size=24, horizontalalignment='left', verticalalignment='top', transform = ax.transAxes,\n",
    "        color='k', path_effects=[pe.Stroke(linewidth=5, foreground='w'), pe.Normal()])\n",
    "# ato vs da\n",
    "ax = fig_2.add_subplot(gs2[0, 2])\n",
    "plotgenes(ariss, 'ato', 'da', ax=ax)\n",
    "ax.text(0.05, 0.95, 'C', size=24, horizontalalignment='left', verticalalignment='top', transform = ax.transAxes,\n",
    "        color='k', path_effects=[pe.Stroke(linewidth=5, foreground='w'), pe.Normal()])\n",
    "gs1.tight_layout(fig_1, rect=[0, 0.67, 1, 1])\n"
   ]
  },
  {
   "cell_type": "code",
   "execution_count": null,
   "metadata": {},
   "outputs": [],
   "source": []
  }
 ],
 "metadata": {
  "kernelspec": {
   "display_name": "Python 3",
   "language": "python",
   "name": "python3"
  },
  "language_info": {
   "codemirror_mode": {
    "name": "ipython",
    "version": 3
   },
   "file_extension": ".py",
   "mimetype": "text/x-python",
   "name": "python",
   "nbconvert_exporter": "python",
   "pygments_lexer": "ipython3",
   "version": "3.8.8"
  }
 },
 "nbformat": 4,
 "nbformat_minor": 1
}
