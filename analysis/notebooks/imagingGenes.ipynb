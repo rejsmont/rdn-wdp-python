{
 "cells": [
  {
   "cell_type": "markdown",
   "metadata": {},
   "source": [
    "Now, let's load the imaging data"
   ]
  },
  {
   "cell_type": "code",
   "execution_count": null,
   "metadata": {
    "pycharm": {
     "name": "#%%\n"
    }
   },
   "outputs": [],
   "source": [
    "from matplotlib import pyplot as plt\n",
    "from CellModels.Cells.IO import CellReader\n",
    "from CellModels.Clustering.IO import ClusteringReader\n",
    "\n",
    "data = CellReader.read('~/Google Drive File Stream/My Drive/Projects/RDN-WDP/processing/samples_complete.csv')\n",
    "clustered = ClusteringReader.read('~/Google Drive File Stream/My Drive/Projects/RDN-WDP/processing/clustering/bigc100k6n20r1000_metadata.yml')\n",
    "\n",
    "\n",
    "#### Image"
   ]
  },
  {
   "cell_type": "code",
   "execution_count": null,
   "metadata": {
    "pycharm": {
     "name": "#%%\n"
    }
   },
   "outputs": [],
   "source": [
    "cells = data.cells()\n",
    "ato_cells = cells[cells['Gene'] == 'ato']\n",
    "x = ato_cells['cy']\n",
    "y = ato_cells['Venus']"
   ]
  },
  {
   "cell_type": "code",
   "execution_count": null,
   "metadata": {
    "pycharm": {
     "name": "#%%\n"
    }
   },
   "outputs": [],
   "source": [
    "fig = plt.figure()\n",
    "ax = fig.add_axes([0,0,1,1])\n",
    "ax.axhline(0.35, c='red')\n",
    "ax.axhline(1.5, c='green')\n",
    "ax.scatter(x, y)\n",
    "fig.show()"
   ]
  },
  {
   "cell_type": "code",
   "execution_count": null,
   "metadata": {
    "pycharm": {
     "name": "#%%\n"
    }
   },
   "outputs": [],
   "source": [
    "total = ato_cells.groupby(round(ato_cells['cy']))['Venus'].count()\n",
    "ato = ato_cells[ato_cells['Venus'] > 1.5].groupby(round(ato_cells['cy']))['Venus'].count()\n",
    "ato.sum() / total.sum()"
   ]
  }
 ],
 "metadata": {
  "kernelspec": {
   "display_name": "Python 3",
   "language": "python",
   "name": "python3"
  },
  "language_info": {
   "codemirror_mode": {
    "name": "ipython",
    "version": 3
   },
   "file_extension": ".py",
   "mimetype": "text/x-python",
   "name": "python",
   "nbconvert_exporter": "python",
   "pygments_lexer": "ipython3",
   "version": "3.7.7"
  }
 },
 "nbformat": 4,
 "nbformat_minor": 1
}