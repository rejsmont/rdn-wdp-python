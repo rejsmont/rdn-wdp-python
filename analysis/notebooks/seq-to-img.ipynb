{
 "cells": [
  {
   "cell_type": "code",
   "execution_count": 1,
   "metadata": {},
   "outputs": [
    {
     "ename": "ModuleNotFoundError",
     "evalue": "No module named 'loompy'",
     "output_type": "error",
     "traceback": [
      "\u001b[0;31m---------------------------------------------------------------------------\u001b[0m",
      "\u001b[0;31mModuleNotFoundError\u001b[0m                       Traceback (most recent call last)",
      "\u001b[0;32m<ipython-input-1-9bc32e225e89>\u001b[0m in \u001b[0;36m<module>\u001b[0;34m\u001b[0m\n\u001b[1;32m      1\u001b[0m \u001b[0;32mfrom\u001b[0m \u001b[0mmatplotlib\u001b[0m \u001b[0;32mimport\u001b[0m \u001b[0mpyplot\u001b[0m \u001b[0;32mas\u001b[0m \u001b[0mplt\u001b[0m\u001b[0;34m\u001b[0m\u001b[0;34m\u001b[0m\u001b[0m\n\u001b[0;32m----> 2\u001b[0;31m \u001b[0;32mfrom\u001b[0m \u001b[0mrnaseq3\u001b[0m \u001b[0;32mimport\u001b[0m \u001b[0mRNAseq\u001b[0m \u001b[0;32mas\u001b[0m \u001b[0mRNAseq3\u001b[0m\u001b[0;34m\u001b[0m\u001b[0;34m\u001b[0m\u001b[0m\n\u001b[0m\u001b[1;32m      3\u001b[0m \u001b[0;32mfrom\u001b[0m \u001b[0mos\u001b[0m\u001b[0;34m.\u001b[0m\u001b[0mpath\u001b[0m \u001b[0;32mimport\u001b[0m \u001b[0mexpanduser\u001b[0m \u001b[0;32mas\u001b[0m \u001b[0mexusr\u001b[0m\u001b[0;34m\u001b[0m\u001b[0;34m\u001b[0m\u001b[0m\n\u001b[1;32m      4\u001b[0m \u001b[0;32mfrom\u001b[0m \u001b[0mCellModels\u001b[0m\u001b[0;34m.\u001b[0m\u001b[0mCells\u001b[0m\u001b[0;34m.\u001b[0m\u001b[0mIO\u001b[0m \u001b[0;32mimport\u001b[0m \u001b[0mCellReader\u001b[0m\u001b[0;34m\u001b[0m\u001b[0;34m\u001b[0m\u001b[0m\n\u001b[1;32m      5\u001b[0m \u001b[0;32mfrom\u001b[0m \u001b[0mCellModels\u001b[0m\u001b[0;34m.\u001b[0m\u001b[0mCells\u001b[0m\u001b[0;34m.\u001b[0m\u001b[0mFilters\u001b[0m \u001b[0;32mimport\u001b[0m \u001b[0mMasks\u001b[0m\u001b[0;34m\u001b[0m\u001b[0;34m\u001b[0m\u001b[0m\n",
      "\u001b[0;32m~/PycharmProjects/rdn-wdp-python/analysis/rnaseq3.py\u001b[0m in \u001b[0;36m<module>\u001b[0;34m\u001b[0m\n\u001b[1;32m      3\u001b[0m \u001b[0;32mimport\u001b[0m \u001b[0margparse\u001b[0m\u001b[0;34m\u001b[0m\u001b[0;34m\u001b[0m\u001b[0m\n\u001b[1;32m      4\u001b[0m \u001b[0;32mimport\u001b[0m \u001b[0mcsv\u001b[0m\u001b[0;34m\u001b[0m\u001b[0;34m\u001b[0m\u001b[0m\n\u001b[0;32m----> 5\u001b[0;31m \u001b[0;32mimport\u001b[0m \u001b[0mloompy\u001b[0m\u001b[0;34m\u001b[0m\u001b[0;34m\u001b[0m\u001b[0m\n\u001b[0m\u001b[1;32m      6\u001b[0m \u001b[0;32mimport\u001b[0m \u001b[0mlogging\u001b[0m\u001b[0;34m\u001b[0m\u001b[0;34m\u001b[0m\u001b[0m\n\u001b[1;32m      7\u001b[0m \u001b[0;32mimport\u001b[0m \u001b[0mos\u001b[0m\u001b[0;34m\u001b[0m\u001b[0;34m\u001b[0m\u001b[0m\n",
      "\u001b[0;31mModuleNotFoundError\u001b[0m: No module named 'loompy'"
     ]
    }
   ],
   "source": [
    "from matplotlib import pyplot as plt\n",
    "from rnaseq3 import RNAseq as RNAseq3\n",
    "from os.path import expanduser as exusr\n",
    "from CellModels.Cells.IO import CellReader\n",
    "from CellModels.Cells.Filters import Masks\n",
    "from CellModels.Clustering.IO import ClusteringReader\n",
    "import numpy as np\n",
    "import pandas as pd\n",
    "import logging\n",
    "\n",
    "%load_ext autoreload\n",
    "%autoreload 2\n",
    "\n",
    "logging.basicConfig(level=logging.ERROR)"
   ]
  },
  {
   "cell_type": "code",
   "execution_count": null,
   "metadata": {},
   "outputs": [],
   "source": [
    "aerts_seq = RNAseq3(exusr('~/Google Drive File Stream/My Drive/Projects/RDN-WDP/contrib/scRNAseq/EyeAntennal_Combined_DG2_v4.csv'))\n",
    "ariss_seq = RNAseq3(exusr('~/Google Drive File Stream/My Drive/Projects/RDN-WDP/contrib/GSE115476_RAW/GSM3178869_DMS.expr.txt'))\n",
    "aerts = aerts_seq.data\n",
    "ariss = ariss_seq.data\n"
   ]
  },
  {
   "cell_type": "code",
   "execution_count": null,
   "metadata": {
    "scrolled": false
   },
   "outputs": [],
   "source": [
    "clustered = ClusteringReader.read(exusr('~/Google Drive File Stream/My Drive/Projects/RDN-WDP/processing/clustering/bigc100k6n20r1000_metadata.yml'))\n",
    "clustered.cells\n",
    "\n",
    "m = Masks(clustered.cells)"
   ]
  },
  {
   "cell_type": "code",
   "execution_count": null,
   "metadata": {
    "scrolled": false
   },
   "outputs": [],
   "source": [
    "c = clustered.cells\n",
    "genes = c.genes\n",
    "cluster_names = {\n",
    "    1: 'R8 ato(+)',\n",
    "    2: 'MF ato(+++)',\n",
    "    3: 'peripodial',\n",
    "    4: 'posterior',\n",
    "    5: 'anterior',\n",
    "    6: 'MF ato(+)',\n",
    "    7: 'non-R8'\n",
    "}\n",
    "\n",
    "c.loc[m.cells_mf_area & (c[('Cluster', 'ward', 6)] == 4), 'Cluster'] = 7"
   ]
  },
  {
   "cell_type": "code",
   "execution_count": null,
   "metadata": {},
   "outputs": [],
   "source": [
    "from scipy.stats import zscore\n",
    "\n",
    "gcv = c.set_index(('Cluster', 'ward', 6), append=True) \\\n",
    "    .droplevel('Sample') \\\n",
    "    .rename_axis(index={('Cluster', 'ward', 6): 'Cluster'}) \\\n",
    "    .reorder_levels(['Gene', 'Cluster', 'Nucleus']) \\\n",
    "    .rename(columns={('Measurements', 'Normalized', 'Venus'): 'Normalized'}) \\\n",
    "    .sort_index() \\\n",
    "    .sort_index(axis='columns') \\\n",
    "    .xs(('Measurements', 'Normalized'), axis='columns', drop_level=True) \\\n",
    "    .loc[:, ['Venus']]\n",
    "gcv['Zscore'] = np.nan\n",
    "\n",
    "z_aerts = pd.DataFrame()\n",
    "z_ariss = pd.DataFrame()\n",
    "\n",
    "for gene in c.genes:\n",
    "    gcv.loc[gene, 'Zscore'] = zscore(np.log(gcv.loc[gene, 'Venus'] + 1e-100))\n",
    "    try:\n",
    "        z_aerts[gene] = zscore(np.log(aerts[gene] + 1e-100))\n",
    "    except KeyError:\n",
    "        z_aerts[gene] = np.nan\n",
    "    try:\n",
    "        z_ariss[gene] = zscore(np.log(ariss[gene] + 1e-100))\n",
    "    except KeyError:\n",
    "        z_ariss[gene] = np.nan"
   ]
  },
  {
   "cell_type": "code",
   "execution_count": null,
   "metadata": {
    "scrolled": false
   },
   "outputs": [],
   "source": [
    "import matplotlib.pyplot as plt\n",
    "\n",
    "gcv.index.unique('Cluster')"
   ]
  },
  {
   "cell_type": "code",
   "execution_count": null,
   "metadata": {},
   "outputs": [],
   "source": [
    "genes = []\n",
    "for gene in c.genes:\n",
    "    if gene in aerts.columns or gene in ariss.columns:\n",
    "        genes.append(gene)\n",
    "if len(genes) % 2 != 0:\n",
    "    genes.append(None)"
   ]
  },
  {
   "cell_type": "code",
   "execution_count": null,
   "metadata": {
    "scrolled": false
   },
   "outputs": [],
   "source": [
    "import math\n",
    "from scipy.stats import ks_2samp\n",
    "\n",
    "def expression_histogram(gene, show=False, ax=None, bins=20):\n",
    "    if ax is None:\n",
    "        fig, ax = plt.subplots()\n",
    "    else:\n",
    "        fig = ax.get_figure()\n",
    "    \n",
    "    ax.hist(gcv.loc[gene, 'Zscore'], bins=bins, color='C0', histtype='step', density=True, cumulative=True, range=(-2, 10))\n",
    "    ax.hist(z_aerts[gene], bins=bins, color='C1', histtype='step', density=True, cumulative=True, range=(-2, 10))\n",
    "    ax.hist(z_ariss[gene], bins=bins, color='C2', histtype='step', density=True, cumulative=True, range=(-2, 10))\n",
    "\n",
    "    txt = gene    \n",
    "    ax.text(0.95, 0.95, txt,\n",
    "        horizontalalignment='right',\n",
    "        verticalalignment='top',\n",
    "        fontsize='x-large',\n",
    "        transform=ax.transAxes)\n",
    "    \n",
    "    if show:\n",
    "        fig.show()\n",
    "    return fig\n",
    "\n",
    "fig, axs = plt.subplots(math.ceil(len(genes) / 2), 2, figsize=(15, 105))\n",
    "for gene, ax in zip(genes, axs.flatten()):\n",
    "    if gene is not None:\n",
    "        f = expression_histogram(gene, ax=ax, bins=50)\n"
   ]
  },
  {
   "cell_type": "code",
   "execution_count": null,
   "metadata": {
    "scrolled": false
   },
   "outputs": [],
   "source": [
    "def class_histogram(gene, show=False, ax=None, bins=20):\n",
    "    if ax is None:\n",
    "        fig, ax = plt.subplots()\n",
    "    else:\n",
    "        fig = ax.get_figure()\n",
    "\n",
    "    for cluster in gcv.index.unique('Cluster'):\n",
    "        color = 'C' + str(int(cluster - 1))\n",
    "        ax.hist(gcv.loc[(gene, cluster), 'Zscore'], bins=bins, color=color, histtype='step', density=True, cumulative=True, range=(-2, 10))\n",
    "\n",
    "    txt = gene\n",
    "    \n",
    "    ax.text(0.95, 0.95, txt,\n",
    "        horizontalalignment='right',\n",
    "        verticalalignment='top',\n",
    "        fontsize='x-large',\n",
    "        transform=ax.transAxes)\n",
    "    \n",
    "    if show:\n",
    "        fig.show()\n",
    "    return fig\n",
    "\n",
    "fig, axs = plt.subplots(math.ceil(len(c.genes) / 2), 2, figsize=(15, 105))\n",
    "for gene, ax in zip(c.genes, axs.flatten()):\n",
    "    if gene is not None:\n",
    "        f = class_histogram(gene, ax=ax, bins=50)\n"
   ]
  },
  {
   "cell_type": "code",
   "execution_count": null,
   "metadata": {},
   "outputs": [],
   "source": [
    "from sklearn.neighbors import KernelDensity\n",
    "from scipy.integrate import quad_vec\n",
    "\n",
    "from CellModels.Cells.Filters import QC\n",
    "from CellModels.Cells.Tools import CleanUp\n",
    "\n",
    "excluded = [CleanUp.SYNONYMS[x] if x in CleanUp.SYNONYMS else x for x in QC.GENES_BAD]\n",
    "excluded.append('seq')\n",
    "\n",
    "densities = {}\n",
    "genes2 = []\n",
    "for gene in genes:\n",
    "    if gene in excluded:\n",
    "        continue\n",
    "    else:\n",
    "        genes2.append(gene)\n",
    "        densities[gene] = {}\n",
    "        for cl in gcv.index.unique('Cluster'):\n",
    "            densities[gene][cl] = KernelDensity(kernel='gaussian', bandwidth=0.25) \\\n",
    "                .fit(gcv.loc[(gene, cl), 'Zscore'].values.reshape(-1, 1))\n",
    "            "
   ]
  },
  {
   "cell_type": "code",
   "execution_count": null,
   "metadata": {
    "scrolled": true
   },
   "outputs": [],
   "source": [
    "from scipy.integrate import quad\n",
    "\n",
    "def map_sc_seq(ds):\n",
    "    vals = np.ones((ds.shape[0], len(gcv.index.unique('Cluster'))))\n",
    "    for gene in genes2:\n",
    "        for j, c in enumerate(gcv.index.unique('Cluster')):\n",
    "            cache = {}\n",
    "            for i, v in enumerate(ds[gene]):\n",
    "                if not v in cache:\n",
    "                    cache[v] = quad(lambda x: np.exp(densities[gene][c].score_samples([[x]])), v-0.125, v+0.125)[0]\n",
    "                vals[i][j] = vals[i][j] * cache[v]\n",
    "\n",
    "    return np.argmax(vals, axis=1)\n"
   ]
  },
  {
   "cell_type": "code",
   "execution_count": null,
   "metadata": {},
   "outputs": [],
   "source": [
    "aerts['Cluster'] = map_sc_seq(z_aerts) + 1.0\n",
    "z_aerts['Cluster'] = aerts['Cluster'].values"
   ]
  },
  {
   "cell_type": "code",
   "execution_count": null,
   "metadata": {},
   "outputs": [],
   "source": [
    "ariss['Cluster'] = map_sc_seq(z_ariss) + 1.0\n",
    "z_ariss['Cluster'] = ariss['Cluster'].values"
   ]
  },
  {
   "cell_type": "code",
   "execution_count": null,
   "metadata": {
    "scrolled": false
   },
   "outputs": [],
   "source": [
    "def mapped_histogram(df, gene, show=False, ax=None, bins=20):\n",
    "    if ax is None:\n",
    "        fig, ax = plt.subplots()\n",
    "    else:\n",
    "        fig = ax.get_figure()\n",
    "\n",
    "    for cluster in df['Cluster'].unique():\n",
    "        color = 'C' + str(int(cluster - 1.0))\n",
    "        cs = df['Cluster'] == cluster\n",
    "        ax.hist(df.loc[cs, gene], bins=bins, color=color, histtype='step', density=True, cumulative=True, range=(-2, 10), ls='-.')\n",
    "        ax.hist(gcv.loc[(gene, cluster), 'Zscore'], bins=bins, color=color, histtype='step', density=True, cumulative=True, range=(-2, 10))\n",
    "\n",
    "    txt = gene\n",
    "    \n",
    "    ax.text(0.95, 0.95, txt,\n",
    "        horizontalalignment='right',\n",
    "        verticalalignment='top',\n",
    "        fontsize='x-large',\n",
    "        transform=ax.transAxes)\n",
    "    \n",
    "    if show:\n",
    "        fig.show()\n",
    "    return fig\n",
    "\n",
    "fig, axs = plt.subplots(math.ceil(len(c.genes) / 2), 2, figsize=(15, 105))\n",
    "for gene, ax in zip(c.genes, axs.flatten()):\n",
    "    if gene is not None:\n",
    "        f = mapped_histogram(z_aerts, gene, ax=ax, bins=50)\n"
   ]
  },
  {
   "cell_type": "code",
   "execution_count": null,
   "metadata": {
    "scrolled": false
   },
   "outputs": [],
   "source": [
    "fig, axs = plt.subplots(math.ceil(len(c.genes) / 2), 2, figsize=(15, 105))\n",
    "for gene, ax in zip(c.genes, axs.flatten()):\n",
    "    if gene is not None:\n",
    "        f = mapped_histogram(z_ariss, gene, ax=ax, bins=50)"
   ]
  },
  {
   "cell_type": "code",
   "execution_count": null,
   "metadata": {},
   "outputs": [],
   "source": [
    "import seaborn as sns\n",
    "\n",
    "m_aerts = aerts.drop(['Unnamed: 0', 'Cluster'], axis=1).mean(axis=0)\n",
    "h_aerts = np.log(aerts.drop(['Unnamed: 0'], axis=1) \\\n",
    "                      .groupby('Cluster')\n",
    "                      .mean() / m_aerts + np.e**-10) \\\n",
    "            .replace(np.nan, 0)\n",
    "g = sns.clustermap(h_aerts.rename(cluster_names) \\\n",
    "                          .drop('peripodial') \\\n",
    "                          .transpose()\n",
    "                          .clip(lower=-5, upper=5), cmap=\"coolwarm\", center=0)"
   ]
  },
  {
   "cell_type": "code",
   "execution_count": null,
   "metadata": {},
   "outputs": [],
   "source": [
    "cluster_names"
   ]
  },
  {
   "cell_type": "code",
   "execution_count": null,
   "metadata": {},
   "outputs": [],
   "source": [
    "m_ariss = ariss.drop(['Cluster'], axis=1).mean(axis=0)\n",
    "h_ariss = np.log(ariss.groupby('Cluster') \\\n",
    "                      .mean() / m_ariss + np.e**-10) \\\n",
    "            .replace(np.nan, 0)\n",
    "g = sns.clustermap(h_ariss.rename(cluster_names) \\\n",
    "                          .transpose() \\\n",
    "                          .clip(lower=-5, upper=5), cmap=\"coolwarm\", center=0)"
   ]
  },
  {
   "cell_type": "code",
   "execution_count": null,
   "metadata": {},
   "outputs": [],
   "source": [
    "s_aerts = h_aerts.rename(cluster_names).transpose()\n",
    "s_aerts"
   ]
  },
  {
   "cell_type": "code",
   "execution_count": null,
   "metadata": {},
   "outputs": [],
   "source": [
    "s_aerts.loc[~s_aerts.index.str.startswith('CG')].sort_values('R8 ato(+)').loc['sens']"
   ]
  },
  {
   "cell_type": "code",
   "execution_count": null,
   "metadata": {},
   "outputs": [],
   "source": []
  }
 ],
 "metadata": {
  "kernelspec": {
   "display_name": "Python 3",
   "language": "python",
   "name": "python3"
  },
  "language_info": {
   "codemirror_mode": {
    "name": "ipython",
    "version": 3
   },
   "file_extension": ".py",
   "mimetype": "text/x-python",
   "name": "python",
   "nbconvert_exporter": "python",
   "pygments_lexer": "ipython3",
   "version": "3.8.6"
  }
 },
 "nbformat": 4,
 "nbformat_minor": 4
}
