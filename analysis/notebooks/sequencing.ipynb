{
 "cells": [
  {
   "cell_type": "markdown",
   "metadata": {},
   "source": [
    "Now, let's load the imaging data"
   ]
  },
  {
   "cell_type": "code",
   "execution_count": 60,
   "metadata": {
    "pycharm": {
     "name": "#%%\n"
    },
    "scrolled": false
   },
   "outputs": [
    {
     "name": "stdout",
     "output_type": "stream",
     "text": [
      "0:00:12.605850\n"
     ]
    },
    {
     "data": {
      "text/plain": [
       "array([b'GGCCCACAAAATGACAATTAGCAAGCATGGTG',\n",
       "       b'CTTTACGTTGACTCGAGAATTGTCCAGTCACA',\n",
       "       b'CTACCTAGACATTCGCTCACACGCGGATGCGG', ...,\n",
       "       b'CGTCCTCGAATATCGGTAGGATGCCTTGACTG',\n",
       "       b'GGACAGCGTGGTTCCACCATCACGGTCAGCAT',\n",
       "       b'CCCGCCATGCCCACCATCTAAGTTAAGGATCT'], dtype='|S32')"
      ]
     },
     "execution_count": 60,
     "metadata": {},
     "output_type": "execute_result"
    }
   ],
   "source": [
    "import datetime\n",
    "import os\n",
    "import numpy as np\n",
    "\n",
    "random = np.frombuffer(os.urandom(1024*1024), dtype='uint64')\n",
    "to_base4 = np.vectorize(lambda x: np.base_repr(x, 4).zfill(32).translate(str.maketrans({'1': 'A', '2': 'T', '3': 'C', '0': 'G'})), otypes=['|S32'])\n",
    "\n",
    "start = datetime.datetime.now()\n",
    "\n",
    "for i in range(16):\n",
    "    bases = to_base4(random)\n",
    "\n",
    "end = datetime.datetime.now()\n",
    "print(end-start)\n",
    "bases"
   ]
  },
  {
   "cell_type": "code",
   "execution_count": 53,
   "metadata": {},
   "outputs": [
    {
     "data": {
      "text/plain": [
       "'00000000000312203312323201100111'"
      ]
     },
     "execution_count": 53,
     "metadata": {},
     "output_type": "execute_result"
    }
   ],
   "source": [
    "np.base_repr(3749354279957, 4).zfill(32)"
   ]
  },
  {
   "cell_type": "code",
   "execution_count": 56,
   "metadata": {},
   "outputs": [
    {
     "data": {
      "text/plain": [
       "'GGGGGGGGGGGGGGGGGGGGGGCCGGGCTTCC'"
      ]
     },
     "execution_count": 56,
     "metadata": {},
     "output_type": "execute_result"
    }
   ],
   "source": [
    "np.base_repr(983983, 4).zfill(32).translate(table)"
   ]
  },
  {
   "cell_type": "code",
   "execution_count": 76,
   "metadata": {},
   "outputs": [
    {
     "data": {
      "text/plain": [
       "13"
      ]
     },
     "execution_count": 76,
     "metadata": {},
     "output_type": "execute_result"
    }
   ],
   "source": [
    "np.sum(np.random.rand(10000000) < 1/1000000)"
   ]
  },
  {
   "cell_type": "code",
   "execution_count": 107,
   "metadata": {
    "scrolled": false
   },
   "outputs": [
    {
     "data": {
      "text/plain": [
       "60"
      ]
     },
     "execution_count": 107,
     "metadata": {},
     "output_type": "execute_result"
    }
   ],
   "source": [
    "sequences = []\n",
    "for i in range(20):\n",
    "    sequence = np.zeros((150000000))\n",
    "    mutate = np.random.rand(len(sequence)) < 0.1\n",
    "    sequence[mutate] += 1\n",
    "    sequences.append(sequence)\n",
    "np.sum(np.mean(np.stack(sequences), axis=0) > 0.75)"
   ]
  },
  {
   "cell_type": "code",
   "execution_count": null,
   "metadata": {},
   "outputs": [],
   "source": []
  },
  {
   "cell_type": "code",
   "execution_count": null,
   "metadata": {},
   "outputs": [],
   "source": []
  }
 ],
 "metadata": {
  "kernelspec": {
   "display_name": "Python 3",
   "language": "python",
   "name": "python3"
  },
  "language_info": {
   "codemirror_mode": {
    "name": "ipython",
    "version": 3
   },
   "file_extension": ".py",
   "mimetype": "text/x-python",
   "name": "python",
   "nbconvert_exporter": "python",
   "pygments_lexer": "ipython3",
   "version": "3.8.5"
  }
 },
 "nbformat": 4,
 "nbformat_minor": 1
}
