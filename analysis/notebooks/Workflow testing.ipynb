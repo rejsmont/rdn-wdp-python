{
 "cells": [
  {
   "cell_type": "code",
   "execution_count": 1,
   "metadata": {
    "pycharm": {
     "name": "#%%\n"
    }
   },
   "outputs": [],
   "source": [
    "%load_ext autoreload\n",
    "%autoreload 2"
   ]
  },
  {
   "cell_type": "code",
   "execution_count": 2,
   "metadata": {},
   "outputs": [],
   "source": [
    "import logging\n",
    "import pandas as pd\n",
    "from os import path\n",
    "\n",
    "logging.basicConfig(level=logging.DEBUG)"
   ]
  },
  {
   "cell_type": "code",
   "execution_count": 3,
   "metadata": {},
   "outputs": [],
   "source": [
    "from CellModels.Clustering.IO import ClusteringReader, ClusteringResultsWriter\n",
    "from CellModels.Clustering.Compute import Clustering\n",
    "from CellModels.Clustering.Data import ClusteringConfig"
   ]
  },
  {
   "cell_type": "code",
   "execution_count": null,
   "metadata": {
    "pycharm": {
     "name": "#%%\n"
    }
   },
   "outputs": [],
   "source": [
    "sample_path = path.expanduser(\n",
    "    '~/Google Drive File Stream/My Drive/Projects/RDN-WDP/new-clustering/single-gene/clustering_168_sca_c6r1.csv')\n",
    "cr = ClusteringReader.read(sample_path)"
   ]
  },
  {
   "cell_type": "code",
   "execution_count": null,
   "metadata": {
    "pycharm": {
     "name": "#%%\n"
    }
   },
   "outputs": [],
   "source": [
    "cells = cr.cells\n",
    "config = cr.config\n",
    "config._clusters = [4, 5, 6]\n",
    "config._samples = 2\n",
    "config._repeats = 3"
   ]
  },
  {
   "cell_type": "code",
   "execution_count": null,
   "metadata": {
    "scrolled": false
   },
   "outputs": [],
   "source": [
    "clustering = Clustering(config, cells, cells)\n",
    "r = clustering.classify()"
   ]
  },
  {
   "cell_type": "code",
   "execution_count": 6,
   "metadata": {},
   "outputs": [],
   "source": [
    "class TestParameters:\n",
    "    clusters = '2, 4, 6, 8, 10'\n",
    "    samples = 20\n",
    "    repeats = 2\n",
    "    cutoff = 1.0\n",
    "    method = 'ward'\n",
    "    metric = 'euclidean'\n",
    "    gene = 'sca'\n",
    "    sample_list = '0687TE, VOK2S9'\n",
    "    furrow = False\n",
    "    no_bad = True\n",
    "    log = 'debug'\n",
    "    mode = 'cluster'\n",
    "    input = path.expanduser('~/Google Drive File Stream/My Drive/Projects/RDN-WDP/samples_complete.csv')\n",
    "    output = '/tmp/clustering_test.h5'"
   ]
  },
  {
   "cell_type": "code",
   "execution_count": 7,
   "metadata": {
    "scrolled": false
   },
   "outputs": [
    {
     "name": "stderr",
     "output_type": "stream",
     "text": [
      "INFO:cell-reader:Reading cells from /Users/rejsmont/Google Drive File Stream/My Drive/Projects/RDN-WDP/samples_complete.csv\n",
      "DEBUG:cell-reader:Attempting to read from CSV\n",
      "DEBUG:cell-reader:Attempting to read from DF\n",
      "DEBUG:cell-reader:Removing ZBO7IH blob artifact...\n",
      "DEBUG:cell-reader:Marking bad CG9801 samples...\n",
      "/Users/rejsmont/PycharmProjects/rdn-wdp-python/analysis/Command/cluster.py:20: PerformanceWarning: indexing past lexsort depth may impact performance.\n",
      "  data = CellReader.read(a.input)\n",
      "DEBUG:cell-reader:Renaming CGs to their proper names...\n",
      "INFO:root:Read 3419755 cells from /Users/rejsmont/Google Drive File Stream/My Drive/Projects/RDN-WDP/samples_complete.csv\n",
      "INFO:root:Will cluster 26256 cells\n",
      "INFO:root:Will train on 26256 cells\n",
      "WARNING:rdn-wdp-clustering:The total number of samples is lower than or equal to the sample size. Setting the repeats to more than 1 does not make much sense.\n",
      "DEBUG:rdn-wdp-clustering:Creating new results object...\n",
      "INFO:rdn-wdp-clustering:Computing agglomerative clustering\n",
      "DEBUG:rdn-wdp-clustering:Iteration 1: computing ward\n",
      "DEBUG:rdn-wdp-clustering:Clustering sample set 3ee35d11: \n",
      "DEBUG:rdn-wdp-clustering:Samples: ['0687TE', 'VOK2S9']\n",
      "DEBUG:rdn-wdp-clustering:Computing clusters for n=2\n",
      "DEBUG:rdn-wdp-clustering:Computing clusters for n=4\n",
      "DEBUG:rdn-wdp-clustering:Computing clusters for n=6\n",
      "DEBUG:rdn-wdp-clustering:Computing clusters for n=8\n",
      "DEBUG:rdn-wdp-clustering:Computing clusters for n=10\n",
      "DEBUG:rdn-wdp-clustering:Iteration 2: computing ward\n",
      "DEBUG:rdn-wdp-clustering:Clustering sample set 3ee35d11: \n",
      "DEBUG:rdn-wdp-clustering:Samples: ['0687TE', 'VOK2S9']\n",
      "DEBUG:rdn-wdp-clustering:Computing clusters for n=2\n",
      "DEBUG:rdn-wdp-clustering:Computing clusters for n=4\n",
      "DEBUG:rdn-wdp-clustering:Computing clusters for n=6\n",
      "DEBUG:rdn-wdp-clustering:Computing clusters for n=8\n",
      "DEBUG:rdn-wdp-clustering:Computing clusters for n=10\n",
      "INFO:rdn-wdp-clustering:Clustering controids (n=2)\n",
      "INFO:rdn-wdp-clustering:Clustering controids (n=6)\n",
      "INFO:rdn-wdp-clustering:Clustering controids (n=4)\n",
      "INFO:rdn-wdp-clustering:Clustering controids (n=10)\n",
      "INFO:rdn-wdp-clustering:Clustering controids (n=8)\n",
      "INFO:rdn-wdp-clustering:Initiating (n=6) with sample set 3ee35d11\n",
      "INFO:rdn-wdp-clustering:Initiating (n=2) with sample set 3ee35d11\n",
      "INFO:rdn-wdp-clustering:Initiating (n=4) with sample set 3ee35d11\n",
      "INFO:rdn-wdp-clustering:Initiating (n=8) with sample set 3ee35d11\n",
      "INFO:rdn-wdp-clustering:Initiating (n=10) with sample set 3ee35d11\n",
      "/usr/local/anaconda3/envs/rdn-wdp/lib/python3.7/multiprocessing/process.py:297: PerformanceWarning: indexing past lexsort depth may impact performance.\n",
      "  self.run()\n",
      "/usr/local/anaconda3/envs/rdn-wdp/lib/python3.7/multiprocessing/process.py:297: PerformanceWarning: indexing past lexsort depth may impact performance.\n",
      "  self.run()\n",
      "/usr/local/anaconda3/envs/rdn-wdp/lib/python3.7/multiprocessing/process.py:297: PerformanceWarning: indexing past lexsort depth may impact performance.\n",
      "  self.run()\n",
      "/usr/local/anaconda3/envs/rdn-wdp/lib/python3.7/multiprocessing/process.py:297: PerformanceWarning: indexing past lexsort depth may impact performance.\n",
      "  self.run()\n",
      "/usr/local/anaconda3/envs/rdn-wdp/lib/python3.7/multiprocessing/process.py:297: PerformanceWarning: indexing past lexsort depth may impact performance.\n",
      "  self.run()\n",
      "INFO:rdn-wdp-clustering:Done (n=2) in 1 iterations. Score is 0.0\n",
      "INFO:rdn-wdp-clustering:Done (n=4) in 3 iterations. Score is 0.0\n",
      "INFO:rdn-wdp-clustering:Done (n=6) in 5 iterations. Score is 0.0\n",
      "INFO:rdn-wdp-clustering:Done (n=8) in 7 iterations. Score is 0.0\n",
      "INFO:rdn-wdp-clustering:Done (n=10) in 9 iterations. Score is 0.0\n",
      "DEBUG:rdn-wdp-clustering:Generating training dataset for classifier (n=2)...\n",
      "DEBUG:rdn-wdp-clustering:Generating training dataset for classifier (n=4)...\n",
      "DEBUG:rdn-wdp-clustering:Generating training dataset for classifier (n=6)...\n",
      "DEBUG:rdn-wdp-clustering:Generating training dataset for classifier (n=8)...\n",
      "DEBUG:rdn-wdp-clustering:Generating training dataset for classifier (n=10)...\n",
      "INFO:cell-writer:Writing metadata to /tmp/clustering_test.yml\n",
      "INFO:cell-writer:Writing clustering results to /tmp/clustering_test.h5 using HDF5 writer\n",
      "INFO:numexpr.utils:Note: NumExpr detected 12 cores but \"NUMEXPR_MAX_THREADS\" not set, so enforcing safe limit of 8.\n",
      "INFO:numexpr.utils:NumExpr defaulting to 8 threads.\n",
      "/usr/local/anaconda3/envs/rdn-wdp/lib/python3.7/site-packages/pandas/io/pytables.py:274: PerformanceWarning: \n",
      "your performance may suffer as PyTables will pickle object types that it cannot\n",
      "map directly to c-types [inferred_type->mixed,key->axis0_level2] [items->None]\n",
      "\n",
      "  encoding=encoding,\n",
      "/usr/local/anaconda3/envs/rdn-wdp/lib/python3.7/site-packages/pandas/io/pytables.py:274: PerformanceWarning: \n",
      "your performance may suffer as PyTables will pickle object types that it cannot\n",
      "map directly to c-types [inferred_type->mixed,key->block0_items_level2] [items->None]\n",
      "\n",
      "  encoding=encoding,\n",
      "/usr/local/anaconda3/envs/rdn-wdp/lib/python3.7/site-packages/pandas/io/pytables.py:274: PerformanceWarning: \n",
      "your performance may suffer as PyTables will pickle object types that it cannot\n",
      "map directly to c-types [inferred_type->mixed,key->block1_items_level2] [items->None]\n",
      "\n",
      "  encoding=encoding,\n",
      "/usr/local/anaconda3/envs/rdn-wdp/lib/python3.7/site-packages/pandas/core/generic.py:2505: PerformanceWarning: \n",
      "your performance may suffer as PyTables will pickle object types that it cannot\n",
      "map directly to c-types [inferred_type->floating,key->block2_values] [items->MultiIndex([('Gene', '', '')],\n",
      "           )]\n",
      "\n",
      "  encoding=encoding,\n",
      "/usr/local/anaconda3/envs/rdn-wdp/lib/python3.7/site-packages/pandas/io/pytables.py:274: PerformanceWarning: \n",
      "your performance may suffer as PyTables will pickle object types that it cannot\n",
      "map directly to c-types [inferred_type->mixed,key->block2_items_level2] [items->None]\n",
      "\n",
      "  encoding=encoding,\n",
      "/usr/local/anaconda3/envs/rdn-wdp/lib/python3.7/site-packages/tables/attributeset.py:464: NaturalNameWarning: object name is not a valid Python identifier: 'axis1_nameSample set'; it does not match the pattern ``^[a-zA-Z_][a-zA-Z0-9_]*$``; you will not be able to use natural naming to access this object; using ``getattr()`` will still work, though\n",
      "  check_attribute_name(name)\n"
     ]
    }
   ],
   "source": [
    "from Command.cluster import run\n",
    "run(TestParameters())"
   ]
  },
  {
   "cell_type": "code",
   "execution_count": 7,
   "metadata": {},
   "outputs": [
    {
     "data": {
      "text/plain": [
       "4"
      ]
     },
     "execution_count": 7,
     "metadata": {},
     "output_type": "execute_result"
    }
   ],
   "source": [
    "2+2"
   ]
  },
  {
   "cell_type": "code",
   "execution_count": null,
   "metadata": {},
   "outputs": [],
   "source": []
  }
 ],
 "metadata": {
  "kernelspec": {
   "display_name": "Python 3",
   "language": "python",
   "name": "python3"
  },
  "language_info": {
   "codemirror_mode": {
    "name": "ipython",
    "version": 3
   },
   "file_extension": ".py",
   "mimetype": "text/x-python",
   "name": "python",
   "nbconvert_exporter": "python",
   "pygments_lexer": "ipython3",
   "version": "3.7.7"
  }
 },
 "nbformat": 4,
 "nbformat_minor": 4
}
