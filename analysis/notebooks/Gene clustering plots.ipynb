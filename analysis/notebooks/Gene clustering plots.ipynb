{
 "cells": [
  {
   "cell_type": "code",
   "execution_count": 2,
   "outputs": [],
   "source": [
    "%load_ext autoreload\n",
    "%autoreload 2"
   ],
   "metadata": {
    "collapsed": false,
    "pycharm": {
     "name": "#%%\n"
    }
   }
  },
  {
   "cell_type": "code",
   "execution_count": 3,
   "metadata": {},
   "outputs": [],
   "source": [
    "import os\n",
    "from os import path\n",
    "import matplotlib as mpl\n",
    "mpl.rcParams['figure.facecolor'] = 'white'"
   ]
  },
  {
   "cell_type": "code",
   "execution_count": 4,
   "metadata": {},
   "outputs": [],
   "source": [
    "from CellModels.Cells.Figures import MultiFigurePdf\n",
    "from CellModels.Clustering.Data import HarmonizedClusteringResult\n",
    "from CellModels.Clustering.Figures import GeneClusteringPlot, MultiClusteringPlot\n",
    "from CellModels.Clustering.IO import MultiClusteringReader"
   ]
  },
  {
   "cell_type": "code",
   "execution_count": 5,
   "metadata": {},
   "outputs": [],
   "source": [
    "def gene_summary(g, s_dir):\n",
    "    mf = MultiClusteringReader.read(s_dir, g)\n",
    "    hf = HarmonizedClusteringResult(mf)\n",
    "\n",
    "    figs = [GeneClusteringPlot(hf), MultiClusteringPlot(hf, 'best')]\n",
    "    pdf = MultiFigurePdf(figs)\n",
    "    pdf.save(path.expanduser(path.join('~/Desktop/Genes', g + '_summary.pdf')))"
   ]
  },
  {
   "cell_type": "code",
   "execution_count": 6,
   "outputs": [
    {
     "name": "stdout",
     "output_type": "stream",
     "text": [
      "Processing CG9801 ...\n",
      "Processing Abl ...\n",
      "Processing Brd ...\n",
      "Processing CG13928 ...\n",
      "Processing CG15097 ...\n",
      "Processing CG17378 ...\n",
      "Processing CG17724 ...\n",
      "Processing CG2556 ...\n",
      "Processing CG30343 ...\n",
      "Processing CG31176 ...\n",
      "Processing CG32150 ...\n",
      "Processing DAAM ...\n",
      "Processing E(spl)mdelta-HLH ...\n",
      "Processing Fas2 ...\n",
      "Processing Lrch ...\n",
      "Processing SRPK ...\n",
      "Processing Victoria ...\n",
      "Processing Vn ...\n",
      "Processing ato ...\n",
      "Processing beat-IIIc ...\n",
      "Processing betaTub60D ...\n",
      "Processing dap ...\n",
      "Processing dpr9 ...\n",
      "Processing ktub ...\n",
      "Processing lola-P ...\n",
      "Processing nSyb ...\n",
      "Processing nmo ...\n",
      "Processing nvy ...\n",
      "Processing phyl ...\n",
      "Processing sNPF ...\n",
      "Processing sca ...\n",
      "Processing scrt ...\n",
      "Processing sens ...\n",
      "Processing seq ...\n",
      "Processing siz ...\n",
      "Processing spdo ...\n"
     ]
    }
   ],
   "source": [
    "sample_dir = path.expanduser(\n",
    "    '~/Google Drive File Stream/My Drive/Projects/RDN-WDP/new-clustering/single-gene')\n",
    "files = os.listdir(sample_dir)\n",
    "genes = []\n",
    "for sample_f in files:\n",
    "    if path.isfile(path.join(sample_dir, sample_f)) and sample_f.endswith('.csv'):\n",
    "        g = sample_f.split('_')[2]\n",
    "        if g not in genes:\n",
    "            genes.append(g)\n",
    "\n",
    "for gene in genes:\n",
    "    print(\"Processing\", gene, '...')\n",
    "    try:\n",
    "        gene_summary(gene, sample_dir)\n",
    "    except:\n",
    "        print(\"Error processing \", gene, \"!\")"
   ],
   "metadata": {
    "collapsed": false,
    "pycharm": {
     "name": "#%%\n"
    }
   }
  },
  {
   "cell_type": "code",
   "execution_count": 5,
   "outputs": [],
   "source": [
    "\n"
   ],
   "metadata": {
    "collapsed": false,
    "pycharm": {
     "name": "#%%\n"
    }
   }
  }
 ],
 "metadata": {
  "kernelspec": {
   "display_name": "Python 3",
   "language": "python",
   "name": "python3"
  },
  "language_info": {
   "codemirror_mode": {
    "name": "ipython",
    "version": 3
   },
   "file_extension": ".py",
   "mimetype": "text/x-python",
   "name": "python",
   "nbconvert_exporter": "python",
   "pygments_lexer": "ipython3",
   "version": "3.7.0"
  }
 },
 "nbformat": 4,
 "nbformat_minor": 4
}