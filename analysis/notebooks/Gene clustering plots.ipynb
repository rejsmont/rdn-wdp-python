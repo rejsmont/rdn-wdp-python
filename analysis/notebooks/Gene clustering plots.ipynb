{
 "cells": [
  {
   "cell_type": "code",
   "execution_count": 1,
   "outputs": [],
   "source": [
    "%load_ext autoreload\n",
    "%autoreload 2"
   ],
   "metadata": {
    "collapsed": false,
    "pycharm": {
     "name": "#%%\n"
    }
   }
  },
  {
   "cell_type": "code",
   "execution_count": 2,
   "metadata": {},
   "outputs": [],
   "source": [
    "import os\n",
    "from os import path\n",
    "import matplotlib as mpl\n",
    "mpl.rcParams['figure.facecolor'] = 'white'"
   ]
  },
  {
   "cell_type": "code",
   "execution_count": 3,
   "metadata": {},
   "outputs": [],
   "source": [
    "from CellModels.Cells.Figures import MultiFigurePdf\n",
    "from CellModels.Clustering.Data import HarmonizedClusteringResult\n",
    "from CellModels.Clustering.Figures import GeneClusteringPlot, MultiClusteringPlot\n",
    "from CellModels.Clustering.IO import MultiClusteringReader"
   ]
  },
  {
   "cell_type": "code",
   "execution_count": 4,
   "metadata": {},
   "outputs": [],
   "source": [
    "def gene_summary(g, s_dir):\n",
    "    mf = MultiClusteringReader.read(s_dir, g)\n",
    "    hf = HarmonizedClusteringResult(mf)\n",
    "\n",
    "    figs = [GeneClusteringPlot(hf), MultiClusteringPlot(hf, 'best')]\n",
    "    pdf = MultiFigurePdf(figs)\n",
    "    pdf.save(path.expanduser(path.join('~/Desktop/Genes', g + '_summary.pdf')))"
   ]
  },
  {
   "cell_type": "code",
   "execution_count": null,
   "outputs": [
    {
     "name": "stdout",
     "output_type": "stream",
     "text": [
      "Procesing CG9801 ...\n",
      "1085.3356233202758 6.0\n",
      "Procesing Abl ...\n",
      "329.1199335789685 5.0\n",
      "Procesing Brd ...\n",
      "664.1715496893952 4.0\n",
      "Procesing CG13928 ...\n",
      "626.964082667562 5.0\n",
      "Procesing CG15097 ...\n",
      "1337.9625240725825 6.0\n",
      "Procesing CG17378 ...\n",
      "966.633995765097 4.0\n",
      "Procesing CG17724 ...\n",
      "1360.37793303308 4.0\n",
      "Procesing CG2556 ...\n"
     ]
    }
   ],
   "source": [
    "sample_dir = path.expanduser(\n",
    "    '~/Google Drive File Stream/My Drive/Projects/RDN-WDP/new-clustering/single-gene')\n",
    "files = os.listdir(sample_dir)\n",
    "genes = []\n",
    "for sample_f in files:\n",
    "    if path.isfile(path.join(sample_dir, sample_f)) and sample_f.endswith('.csv'):\n",
    "        g = sample_f.split('_')[2]\n",
    "        if g not in genes:\n",
    "            genes.append(g)\n",
    "\n",
    "for gene in genes:\n",
    "    print(\"Procesing\", gene, '...')\n",
    "    try:\n",
    "        gene_summary(gene, sample_dir)\n",
    "    except:\n",
    "        print(\"Error processing \", gene, \"!\")"
   ],
   "metadata": {
    "collapsed": false,
    "pycharm": {
     "name": "#%%\n",
     "is_executing": true
    }
   }
  },
  {
   "cell_type": "code",
   "execution_count": null,
   "outputs": [],
   "source": [
    "\n"
   ],
   "metadata": {
    "collapsed": false,
    "pycharm": {
     "name": "#%%\n",
     "is_executing": true
    }
   }
  }
 ],
 "metadata": {
  "kernelspec": {
   "display_name": "Python 3",
   "language": "python",
   "name": "python3"
  },
  "language_info": {
   "codemirror_mode": {
    "name": "ipython",
    "version": 3
   },
   "file_extension": ".py",
   "mimetype": "text/x-python",
   "name": "python",
   "nbconvert_exporter": "python",
   "pygments_lexer": "ipython3",
   "version": "3.7.0"
  }
 },
 "nbformat": 4,
 "nbformat_minor": 4
}