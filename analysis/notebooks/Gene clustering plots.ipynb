{
 "cells": [
  {
   "cell_type": "code",
   "execution_count": 1,
   "metadata": {
    "pycharm": {
     "name": "#%%\n"
    }
   },
   "outputs": [],
   "source": [
    "%load_ext autoreload\n",
    "%autoreload 2"
   ]
  },
  {
   "cell_type": "code",
   "execution_count": 2,
   "metadata": {},
   "outputs": [],
   "source": [
    "import os\n",
    "from os import path\n",
    "import matplotlib as mpl\n",
    "mpl.rcParams['figure.facecolor'] = 'white'"
   ]
  },
  {
   "cell_type": "code",
   "execution_count": 3,
   "metadata": {},
   "outputs": [],
   "source": [
    "from CellModels.Cells.Figures import MultiFigurePdf\n",
    "from CellModels.Clustering.Data import HarmonizedClusteringResult\n",
    "from CellModels.Clustering.Figures import GeneClusteringPlot, MultiClusteringPlot\n",
    "from CellModels.Clustering.IO import ClusteringReader"
   ]
  },
  {
   "cell_type": "code",
   "execution_count": 4,
   "metadata": {},
   "outputs": [],
   "source": [
    "def gene_summary(f):\n",
    "    mf = ClusteringReader.read(f)\n",
    "    try:\n",
    "        hf = HarmonizedClusteringResult(mf)\n",
    "    except:\n",
    "        print('Unable to harmonize', f)\n",
    "        hf = mf\n",
    "    figs = [GeneClusteringPlot(hf), MultiClusteringPlot(hf, 'best')]\n",
    "    pdf = MultiFigurePdf(figs)\n",
    "    pdf.save(path.expanduser(path.join('~/Desktop/Genes', g + '_summary.pdf')))\n",
    "    for fig in figs:\n",
    "        fig.close()\n",
    "\n",
    "def gene_samples(f):\n",
    "    mf = ClusteringReader.read(f)\n",
    "    return  mf.cells.index.unique('Sample')"
   ]
  },
  {
   "cell_type": "code",
   "execution_count": null,
   "metadata": {
    "pycharm": {
     "name": "#%%\n"
    },
    "scrolled": false
   },
   "outputs": [
    {
     "name": "stdout",
     "output_type": "stream",
     "text": [
      "Processing clustering_sNPF_773d_s20r1...\n",
      "Processing clustering_CG32150_9444_s20r1f...\n"
     ]
    }
   ],
   "source": [
    "sample_dir = path.expanduser(\n",
    "    '~/Google Drive File Stream/My Drive/Projects/RDN-WDP/clustering-h5')\n",
    "files = os.listdir(sample_dir)\n",
    "sample_files = []\n",
    "for sample_f in files:\n",
    "    if path.isfile(path.join(sample_dir, sample_f)) and sample_f.endswith('.h5'):\n",
    "        sample_files.append(str(path.join(sample_dir, sample_f)))\n",
    "\n",
    "for sample_file in sample_files:\n",
    "    g = os.path.splitext(os.path.basename(sample_file))[0]\n",
    "    print(\"Processing\", str(g) + '...')\n",
    "    try:\n",
    "        gene_summary(sample_file)\n",
    "    except Exception as e:\n",
    "        print(\"Error processing \", str(g) + \"!\")"
   ]
  },
  {
   "cell_type": "code",
   "execution_count": null,
   "metadata": {},
   "outputs": [],
   "source": []
  }
 ],
 "metadata": {
  "kernelspec": {
   "display_name": "Python 3",
   "language": "python",
   "name": "python3"
  },
  "language_info": {
   "codemirror_mode": {
    "name": "ipython",
    "version": 3
   },
   "file_extension": ".py",
   "mimetype": "text/x-python",
   "name": "python",
   "nbconvert_exporter": "python",
   "pygments_lexer": "ipython3",
   "version": "3.7.7"
  }
 },
 "nbformat": 4,
 "nbformat_minor": 4
}
