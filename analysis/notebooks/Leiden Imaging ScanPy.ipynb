{
 "cells": [
  {
   "cell_type": "code",
   "execution_count": 1,
   "id": "criminal-employer",
   "metadata": {},
   "outputs": [],
   "source": [
    "import numpy as np\n",
    "import pandas as pd\n",
    "import scanpy as sc\n",
    "import os\n",
    "import sys\n",
    "\n",
    "sys.path = ['/Users/rejsmont/PycharmProjects/rdn-wdp-python/analysis'] + sys.path"
   ]
  },
  {
   "cell_type": "code",
   "execution_count": 2,
   "id": "compressed-stone",
   "metadata": {},
   "outputs": [
    {
     "data": {
      "text/html": [
       "<div>\n",
       "<style scoped>\n",
       "    .dataframe tbody tr th:only-of-type {\n",
       "        vertical-align: middle;\n",
       "    }\n",
       "\n",
       "    .dataframe tbody tr th {\n",
       "        vertical-align: top;\n",
       "    }\n",
       "\n",
       "    .dataframe thead tr th {\n",
       "        text-align: left;\n",
       "    }\n",
       "\n",
       "    .dataframe thead tr:last-of-type th {\n",
       "        text-align: right;\n",
       "    }\n",
       "</style>\n",
       "<table border=\"1\" class=\"dataframe\">\n",
       "  <thead>\n",
       "    <tr>\n",
       "      <th></th>\n",
       "      <th></th>\n",
       "      <th></th>\n",
       "      <th colspan=\"3\" halign=\"left\">Position</th>\n",
       "      <th colspan=\"8\" halign=\"left\">Measurements</th>\n",
       "      <th>Cluster</th>\n",
       "    </tr>\n",
       "    <tr>\n",
       "      <th></th>\n",
       "      <th></th>\n",
       "      <th></th>\n",
       "      <th colspan=\"3\" halign=\"left\">Normalized</th>\n",
       "      <th colspan=\"3\" halign=\"left\">Normalized</th>\n",
       "      <th>Raw</th>\n",
       "      <th colspan=\"2\" halign=\"left\">Prominence</th>\n",
       "      <th colspan=\"2\" halign=\"left\">Angle</th>\n",
       "      <th>ward</th>\n",
       "    </tr>\n",
       "    <tr>\n",
       "      <th></th>\n",
       "      <th></th>\n",
       "      <th></th>\n",
       "      <th>x</th>\n",
       "      <th>y</th>\n",
       "      <th>z</th>\n",
       "      <th>mCherry</th>\n",
       "      <th>Venus</th>\n",
       "      <th>DAPI</th>\n",
       "      <th>Volume</th>\n",
       "      <th>mCherry</th>\n",
       "      <th>Venus</th>\n",
       "      <th>mCherry</th>\n",
       "      <th>Venus</th>\n",
       "      <th>6</th>\n",
       "    </tr>\n",
       "    <tr>\n",
       "      <th>Gene</th>\n",
       "      <th>Sample</th>\n",
       "      <th>Nucleus</th>\n",
       "      <th></th>\n",
       "      <th></th>\n",
       "      <th></th>\n",
       "      <th></th>\n",
       "      <th></th>\n",
       "      <th></th>\n",
       "      <th></th>\n",
       "      <th></th>\n",
       "      <th></th>\n",
       "      <th></th>\n",
       "      <th></th>\n",
       "      <th></th>\n",
       "    </tr>\n",
       "  </thead>\n",
       "  <tbody>\n",
       "    <tr>\n",
       "      <th rowspan=\"5\" valign=\"top\">Abl</th>\n",
       "      <th rowspan=\"5\" valign=\"top\">1Q8GA8</th>\n",
       "      <th>1239543</th>\n",
       "      <td>1.454965</td>\n",
       "      <td>15.329020</td>\n",
       "      <td>0.751815</td>\n",
       "      <td>0.171228</td>\n",
       "      <td>0.830571</td>\n",
       "      <td>13.854070</td>\n",
       "      <td>5020</td>\n",
       "      <td>0.837475</td>\n",
       "      <td>0.910950</td>\n",
       "      <td>72.597306</td>\n",
       "      <td>88.679193</td>\n",
       "      <td>4.0</td>\n",
       "    </tr>\n",
       "    <tr>\n",
       "      <th>1239544</th>\n",
       "      <td>1.979088</td>\n",
       "      <td>15.838467</td>\n",
       "      <td>0.740619</td>\n",
       "      <td>0.187337</td>\n",
       "      <td>0.613269</td>\n",
       "      <td>14.397083</td>\n",
       "      <td>4522</td>\n",
       "      <td>1.006505</td>\n",
       "      <td>0.591404</td>\n",
       "      <td>44.716713</td>\n",
       "      <td>59.522732</td>\n",
       "      <td>4.0</td>\n",
       "    </tr>\n",
       "    <tr>\n",
       "      <th>1239545</th>\n",
       "      <td>6.102696</td>\n",
       "      <td>19.271921</td>\n",
       "      <td>0.854784</td>\n",
       "      <td>0.195026</td>\n",
       "      <td>0.498462</td>\n",
       "      <td>21.186515</td>\n",
       "      <td>12339</td>\n",
       "      <td>1.047569</td>\n",
       "      <td>0.808834</td>\n",
       "      <td>173.828641</td>\n",
       "      <td>109.918618</td>\n",
       "      <td>4.0</td>\n",
       "    </tr>\n",
       "    <tr>\n",
       "      <th>1239546</th>\n",
       "      <td>10.614307</td>\n",
       "      <td>22.123290</td>\n",
       "      <td>0.778087</td>\n",
       "      <td>0.162865</td>\n",
       "      <td>0.292009</td>\n",
       "      <td>18.692125</td>\n",
       "      <td>8100</td>\n",
       "      <td>0.861932</td>\n",
       "      <td>0.327443</td>\n",
       "      <td>129.476525</td>\n",
       "      <td>51.013798</td>\n",
       "      <td>4.0</td>\n",
       "    </tr>\n",
       "    <tr>\n",
       "      <th>1239547</th>\n",
       "      <td>0.639369</td>\n",
       "      <td>12.605514</td>\n",
       "      <td>0.797042</td>\n",
       "      <td>0.245897</td>\n",
       "      <td>0.775441</td>\n",
       "      <td>19.484099</td>\n",
       "      <td>4806</td>\n",
       "      <td>1.123186</td>\n",
       "      <td>0.985807</td>\n",
       "      <td>37.003297</td>\n",
       "      <td>88.526588</td>\n",
       "      <td>4.0</td>\n",
       "    </tr>\n",
       "    <tr>\n",
       "      <th>...</th>\n",
       "      <th>...</th>\n",
       "      <th>...</th>\n",
       "      <td>...</td>\n",
       "      <td>...</td>\n",
       "      <td>...</td>\n",
       "      <td>...</td>\n",
       "      <td>...</td>\n",
       "      <td>...</td>\n",
       "      <td>...</td>\n",
       "      <td>...</td>\n",
       "      <td>...</td>\n",
       "      <td>...</td>\n",
       "      <td>...</td>\n",
       "      <td>...</td>\n",
       "    </tr>\n",
       "    <tr>\n",
       "      <th rowspan=\"5\" valign=\"top\">spdo</th>\n",
       "      <th rowspan=\"5\" valign=\"top\">U0R0WS</th>\n",
       "      <th>1989145</th>\n",
       "      <td>13.636071</td>\n",
       "      <td>-0.953809</td>\n",
       "      <td>4.117531</td>\n",
       "      <td>0.239002</td>\n",
       "      <td>0.299819</td>\n",
       "      <td>19.406605</td>\n",
       "      <td>8595</td>\n",
       "      <td>0.570954</td>\n",
       "      <td>1.257708</td>\n",
       "      <td>7.767949</td>\n",
       "      <td>14.861582</td>\n",
       "      <td>5.0</td>\n",
       "    </tr>\n",
       "    <tr>\n",
       "      <th>1989146</th>\n",
       "      <td>17.377004</td>\n",
       "      <td>0.434604</td>\n",
       "      <td>4.159967</td>\n",
       "      <td>0.320409</td>\n",
       "      <td>0.350425</td>\n",
       "      <td>18.459796</td>\n",
       "      <td>7089</td>\n",
       "      <td>0.479263</td>\n",
       "      <td>1.425268</td>\n",
       "      <td>20.500289</td>\n",
       "      <td>152.308561</td>\n",
       "      <td>3.0</td>\n",
       "    </tr>\n",
       "    <tr>\n",
       "      <th>1989147</th>\n",
       "      <td>15.133310</td>\n",
       "      <td>3.362016</td>\n",
       "      <td>4.137667</td>\n",
       "      <td>0.206911</td>\n",
       "      <td>0.285008</td>\n",
       "      <td>19.834397</td>\n",
       "      <td>7318</td>\n",
       "      <td>0.416987</td>\n",
       "      <td>1.138248</td>\n",
       "      <td>162.220803</td>\n",
       "      <td>163.978249</td>\n",
       "      <td>3.0</td>\n",
       "    </tr>\n",
       "    <tr>\n",
       "      <th>1989148</th>\n",
       "      <td>13.815633</td>\n",
       "      <td>-3.539903</td>\n",
       "      <td>4.202985</td>\n",
       "      <td>0.192044</td>\n",
       "      <td>0.313957</td>\n",
       "      <td>18.634784</td>\n",
       "      <td>4006</td>\n",
       "      <td>0.580034</td>\n",
       "      <td>1.377011</td>\n",
       "      <td>64.370008</td>\n",
       "      <td>12.571874</td>\n",
       "      <td>5.0</td>\n",
       "    </tr>\n",
       "    <tr>\n",
       "      <th>1989149</th>\n",
       "      <td>11.240356</td>\n",
       "      <td>-2.595631</td>\n",
       "      <td>4.162754</td>\n",
       "      <td>0.202423</td>\n",
       "      <td>0.247699</td>\n",
       "      <td>23.191932</td>\n",
       "      <td>3773</td>\n",
       "      <td>0.573739</td>\n",
       "      <td>1.093847</td>\n",
       "      <td>29.855944</td>\n",
       "      <td>4.547415</td>\n",
       "      <td>5.0</td>\n",
       "    </tr>\n",
       "  </tbody>\n",
       "</table>\n",
       "<p>2368709 rows × 12 columns</p>\n",
       "</div>"
      ],
      "text/plain": [
       "                      Position                      Measurements            \\\n",
       "                    Normalized                        Normalized             \n",
       "                             x          y         z      mCherry     Venus   \n",
       "Gene Sample Nucleus                                                          \n",
       "Abl  1Q8GA8 1239543   1.454965  15.329020  0.751815     0.171228  0.830571   \n",
       "            1239544   1.979088  15.838467  0.740619     0.187337  0.613269   \n",
       "            1239545   6.102696  19.271921  0.854784     0.195026  0.498462   \n",
       "            1239546  10.614307  22.123290  0.778087     0.162865  0.292009   \n",
       "            1239547   0.639369  12.605514  0.797042     0.245897  0.775441   \n",
       "...                        ...        ...       ...          ...       ...   \n",
       "spdo U0R0WS 1989145  13.636071  -0.953809  4.117531     0.239002  0.299819   \n",
       "            1989146  17.377004   0.434604  4.159967     0.320409  0.350425   \n",
       "            1989147  15.133310   3.362016  4.137667     0.206911  0.285008   \n",
       "            1989148  13.815633  -3.539903  4.202985     0.192044  0.313957   \n",
       "            1989149  11.240356  -2.595631  4.162754     0.202423  0.247699   \n",
       "\n",
       "                                                                        \\\n",
       "                                  Raw Prominence                 Angle   \n",
       "                          DAPI Volume    mCherry     Venus     mCherry   \n",
       "Gene Sample Nucleus                                                      \n",
       "Abl  1Q8GA8 1239543  13.854070   5020   0.837475  0.910950   72.597306   \n",
       "            1239544  14.397083   4522   1.006505  0.591404   44.716713   \n",
       "            1239545  21.186515  12339   1.047569  0.808834  173.828641   \n",
       "            1239546  18.692125   8100   0.861932  0.327443  129.476525   \n",
       "            1239547  19.484099   4806   1.123186  0.985807   37.003297   \n",
       "...                        ...    ...        ...       ...         ...   \n",
       "spdo U0R0WS 1989145  19.406605   8595   0.570954  1.257708    7.767949   \n",
       "            1989146  18.459796   7089   0.479263  1.425268   20.500289   \n",
       "            1989147  19.834397   7318   0.416987  1.138248  162.220803   \n",
       "            1989148  18.634784   4006   0.580034  1.377011   64.370008   \n",
       "            1989149  23.191932   3773   0.573739  1.093847   29.855944   \n",
       "\n",
       "                                Cluster  \n",
       "                                   ward  \n",
       "                          Venus       6  \n",
       "Gene Sample Nucleus                      \n",
       "Abl  1Q8GA8 1239543   88.679193     4.0  \n",
       "            1239544   59.522732     4.0  \n",
       "            1239545  109.918618     4.0  \n",
       "            1239546   51.013798     4.0  \n",
       "            1239547   88.526588     4.0  \n",
       "...                         ...     ...  \n",
       "spdo U0R0WS 1989145   14.861582     5.0  \n",
       "            1989146  152.308561     3.0  \n",
       "            1989147  163.978249     3.0  \n",
       "            1989148   12.571874     5.0  \n",
       "            1989149    4.547415     5.0  \n",
       "\n",
       "[2368709 rows x 12 columns]"
      ]
     },
     "execution_count": 2,
     "metadata": {},
     "output_type": "execute_result"
    }
   ],
   "source": [
    "from CellModels.Clustering.IO import ClusteringReader\n",
    "\n",
    "basedir = '/Users/rejsmont/Google Drive/My Drive/Projects/RDN-WDP'\n",
    "ato_p = ClusteringReader.read(basedir + '/processing/clustering/bigc100k6n20r1000_metadata.yml')\n",
    "cells = ato_p.cells\n",
    "cells"
   ]
  },
  {
   "cell_type": "code",
   "execution_count": 3,
   "id": "plain-accessory",
   "metadata": {},
   "outputs": [],
   "source": [
    "from sklearn.preprocessing import StandardScaler\n",
    "\n",
    "x = ato_p.cells[ato_p.config.rf_features]\n",
    "obs = x.index.to_frame().set_index(x.reset_index().index.astype(str))\n",
    "var = x.columns.to_frame().set_index(x.columns.to_frame().reset_index().index.astype(str)).rename(columns={\n",
    "    0: 'Type', 1: 'Transform', 2: 'Variable'\n",
    "})\n",
    "adata = sc.AnnData(X=StandardScaler().fit_transform(x), obs=obs, var=var)"
   ]
  },
  {
   "cell_type": "code",
   "execution_count": 12,
   "id": "legal-maximum",
   "metadata": {},
   "outputs": [
    {
     "name": "stderr",
     "output_type": "stream",
     "text": [
      "computing PCA\n",
      "    with n_comps=6\n",
      "    finished (0:00:00)\n"
     ]
    }
   ],
   "source": [
    "sc.tl.pca(adata, svd_solver='arpack', use_highly_variable=False)"
   ]
  },
  {
   "cell_type": "code",
   "execution_count": 5,
   "id": "molecular-retirement",
   "metadata": {},
   "outputs": [
    {
     "data": {
      "text/plain": [
       "Text(0.5, 1.0, 'PCA')"
      ]
     },
     "execution_count": 5,
     "metadata": {},
     "output_type": "execute_result"
    },
    {
     "data": {
      "image/png": "[encoded data removed]",
      "text/plain": [
       "<Figure size 432x288 with 1 Axes>"
      ]
     },
     "metadata": {
      "needs_background": "light"
     },
     "output_type": "display_data"
    }
   ],
   "source": [
    "import seaborn as sns\n",
    "sns.scatterplot(x=adata.obsm['X_pca'][:, 0], y=adata.obsm['X_pca'][:, 1]).set_title('PCA')"
   ]
  },
  {
   "cell_type": "code",
   "execution_count": 6,
   "id": "fantastic-forge",
   "metadata": {},
   "outputs": [
    {
     "data": {
      "image/png": "[encoded data removed]",
      "text/plain": [
       "<Figure size 432x288 with 1 Axes>"
      ]
     },
     "metadata": {
      "needs_background": "light"
     },
     "output_type": "display_data"
    }
   ],
   "source": [
    "sc.pl.pca_variance_ratio(adata, log=True)"
   ]
  },
  {
   "cell_type": "code",
   "execution_count": 8,
   "id": "proved-script",
   "metadata": {},
   "outputs": [
    {
     "name": "stderr",
     "output_type": "stream",
     "text": [
      "computing neighbors\n",
      "    finished: added to `.uns['neighbors']`\n",
      "    `.obsp['distances']`, distances for each pair of neighbors\n",
      "    `.obsp['connectivities']`, weighted adjacency matrix (0:02:56)\n"
     ]
    }
   ],
   "source": [
    "sc.settings.verbosity = 3\n",
    "sc.pp.neighbors(adata, n_neighbors=10, use_rep='X_pca')"
   ]
  },
  {
   "cell_type": "code",
   "execution_count": 16,
   "id": "commercial-announcement",
   "metadata": {},
   "outputs": [
    {
     "name": "stderr",
     "output_type": "stream",
     "text": [
      "computing UMAP\n",
      "    finished: added\n",
      "    'X_umap', UMAP coordinates (adata.obsm) (0:41:28)\n"
     ]
    }
   ],
   "source": [
    "sc.tl.umap(adata, n_components=3)"
   ]
  },
  {
   "cell_type": "code",
   "execution_count": 17,
   "id": "square-paste",
   "metadata": {},
   "outputs": [
    {
     "data": {
      "image/png": "[encoded data removed]",
      "text/plain": [
       "<Figure size 432x288 with 1 Axes>"
      ]
     },
     "metadata": {},
     "output_type": "display_data"
    }
   ],
   "source": [
    "sc.pl.umap(adata)"
   ]
  },
  {
   "cell_type": "code",
   "execution_count": 13,
   "id": "secondary-georgia",
   "metadata": {},
   "outputs": [
    {
     "name": "stderr",
     "output_type": "stream",
     "text": [
      "running Leiden clustering\n",
      "    finished: found 1 clusters and added\n",
      "    'leiden_0.0', the cluster labels (adata.obs, categorical) (0:03:00)\n",
      "running Leiden clustering\n",
      "    finished: found 3 clusters and added\n",
      "    'leiden_0.1', the cluster labels (adata.obs, categorical) (3:05:31)\n",
      "running Leiden clustering\n",
      "    finished: found 6 clusters and added\n",
      "    'leiden_0.2', the cluster labels (adata.obs, categorical) (4:00:54)\n",
      "running Leiden clustering\n",
      "    finished: found 9 clusters and added\n",
      "    'leiden_0.3', the cluster labels (adata.obs, categorical) (5:06:35)\n",
      "running Leiden clustering\n",
      "    finished: found 14 clusters and added\n",
      "    'leiden_0.4', the cluster labels (adata.obs, categorical) (6:11:02)\n",
      "running Leiden clustering\n",
      "    finished: found 19 clusters and added\n",
      "    'leiden_0.5', the cluster labels (adata.obs, categorical) (5:55:36)\n",
      "running Leiden clustering\n",
      "    finished: found 21 clusters and added\n",
      "    'leiden_0.6', the cluster labels (adata.obs, categorical) (6:23:30)\n",
      "running Leiden clustering\n",
      "    finished: found 23 clusters and added\n",
      "    'leiden_0.7', the cluster labels (adata.obs, categorical) (9:35:12)\n",
      "running Leiden clustering\n",
      "    finished: found 29 clusters and added\n",
      "    'leiden_0.8', the cluster labels (adata.obs, categorical) (7:19:09)\n",
      "running Leiden clustering\n",
      "    finished: found 32 clusters and added\n",
      "    'leiden_0.9', the cluster labels (adata.obs, categorical) (5:12:01)\n",
      "running Leiden clustering\n",
      "    finished: found 33 clusters and added\n",
      "    'leiden_1.0', the cluster labels (adata.obs, categorical) (8:51:15)\n"
     ]
    }
   ],
   "source": [
    "for res in np.arange(0, 11, 1)/10:\n",
    "    sc.tl.leiden(adata, res, key_added='leiden_' + str(res))"
   ]
  },
  {
   "cell_type": "code",
   "execution_count": 14,
   "id": "equivalent-friday",
   "metadata": {},
   "outputs": [
    {
     "data": {
      "text/plain": [
       "AnnData object with n_obs × n_vars = 2368709 × 7\n",
       "    obs: 'Gene', 'Sample', 'Nucleus', 'leiden_0.0', 'leiden_0.1', 'leiden_0.2', 'leiden_0.3', 'leiden_0.4', 'leiden_0.5', 'leiden_0.6', 'leiden_0.7', 'leiden_0.8', 'leiden_0.9', 'leiden_1.0'\n",
       "    var: 'Type', 'Transform', 'Variable'\n",
       "    uns: 'pca', 'neighbors', 'umap', 'leiden'\n",
       "    obsm: 'X_pca', 'X_umap'\n",
       "    varm: 'PCs'\n",
       "    obsp: 'distances', 'connectivities'"
      ]
     },
     "execution_count": 14,
     "metadata": {},
     "output_type": "execute_result"
    }
   ],
   "source": [
    "adata"
   ]
  },
  {
   "cell_type": "code",
   "execution_count": 15,
   "id": "binary-reynolds",
   "metadata": {},
   "outputs": [],
   "source": [
    "adata.write('imaging_leiden.h5ad')"
   ]
  },
  {
   "cell_type": "code",
   "execution_count": null,
   "id": "painful-support",
   "metadata": {},
   "outputs": [],
   "source": []
  }
 ],
 "metadata": {
  "kernelspec": {
   "display_name": "Python 3",
   "language": "python",
   "name": "python3"
  },
  "language_info": {
   "codemirror_mode": {
    "name": "ipython",
    "version": 3
   },
   "file_extension": ".py",
   "mimetype": "text/x-python",
   "name": "python",
   "nbconvert_exporter": "python",
   "pygments_lexer": "ipython3",
   "version": "3.8.8"
  }
 },
 "nbformat": 4,
 "nbformat_minor": 5
}
