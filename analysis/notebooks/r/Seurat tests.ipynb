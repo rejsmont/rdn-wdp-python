{
 "cells": [
  {
   "cell_type": "code",
   "execution_count": 1,
   "id": "hydraulic-baking",
   "metadata": {},
   "outputs": [
    {
     "name": "stderr",
     "output_type": "stream",
     "text": [
      "Attaching SeuratObject\n",
      "\n",
      "Loading required package: ggraph\n",
      "\n",
      "Loading required package: ggplot2\n",
      "\n",
      "\n",
      "Attaching package: ‘dplyr’\n",
      "\n",
      "\n",
      "The following objects are masked from ‘package:stats’:\n",
      "\n",
      "    filter, lag\n",
      "\n",
      "\n",
      "The following objects are masked from ‘package:base’:\n",
      "\n",
      "    intersect, setdiff, setequal, union\n",
      "\n",
      "\n"
     ]
    }
   ],
   "source": [
    "library(Seurat)\n",
    "library(clustree)\n",
    "library(dittoSeq)\n",
    "library(dplyr)"
   ]
  },
  {
   "cell_type": "code",
   "execution_count": 2,
   "id": "major-exposure",
   "metadata": {},
   "outputs": [],
   "source": [
    "maindir=\"/Users/rejsmont/Google Drive/My Drive/Projects/RDN-WDP/sharing/\"\n",
    "colors = dittoColors()\n",
    "options(warn=-1)"
   ]
  },
  {
   "cell_type": "code",
   "execution_count": 3,
   "id": "female-tolerance",
   "metadata": {},
   "outputs": [],
   "source": [
    "counts = read.delim(file.path(maindir, \"export\", \"aerts_counts.csv\"), sep=\",\", header=TRUE, row.names=1, check.names=FALSE)\n",
    "counts = t(counts)\n",
    "obj = CreateSeuratObject(counts=counts, project=\"Eye Disc\", min.cells=1, min.features=1)\n",
    "cells = read.delim(file.path(maindir, \"export\", \"aerts_cells.csv\"), sep=\",\", header=TRUE, row.names=1, check.names=FALSE)\n",
    "obj@meta.data$barcodes = cells[,1]\n",
    "obj@meta.data$rep = unlist(lapply(strsplit(cells[,1],\"-\"), function(x)x[2]))\n",
    "clusters = read.delim(file.path(maindir, \"export\", \"aerts_clusters.csv\"), sep=\",\", header=TRUE, row.names=1, check.names=FALSE)\n",
    "obj@meta.data$image_clusters = clusters[,1]"
   ]
  },
  {
   "cell_type": "code",
   "execution_count": 4,
   "id": "cutting-wound",
   "metadata": {
    "scrolled": false
   },
   "outputs": [
    {
     "name": "stderr",
     "output_type": "stream",
     "text": [
      "Calculating cell attributes from input UMI matrix: log_umi\n",
      "\n",
      "Variance stabilizing transformation of count matrix of size 10329 by 2382\n",
      "\n",
      "Model formula is y ~ log_umi\n",
      "\n",
      "Get Negative Binomial regression parameters per gene\n",
      "\n",
      "Using 2000 genes, 2382 cells\n",
      "\n"
     ]
    },
    {
     "name": "stdout",
     "output_type": "stream",
     "text": [
      "  |======================================================================| 100%\n"
     ]
    },
    {
     "name": "stderr",
     "output_type": "stream",
     "text": [
      "Found 129 outliers - those will be ignored in fitting/regularization step\n",
      "\n",
      "\n",
      "Second step: Get residuals using fitted parameters for 10329 genes\n",
      "\n"
     ]
    },
    {
     "name": "stdout",
     "output_type": "stream",
     "text": [
      "  |======================================================================| 100%\n"
     ]
    },
    {
     "name": "stderr",
     "output_type": "stream",
     "text": [
      "Computing corrected count matrix for 10329 genes\n",
      "\n"
     ]
    },
    {
     "name": "stdout",
     "output_type": "stream",
     "text": [
      "  |======================================================================| 100%\n"
     ]
    },
    {
     "name": "stderr",
     "output_type": "stream",
     "text": [
      "Calculating gene attributes\n",
      "\n",
      "Wall clock passed: Time difference of 23.09356 secs\n",
      "\n",
      "Determine variable features\n",
      "\n",
      "Place corrected count matrix in counts slot\n",
      "\n",
      "Centering and scaling data matrix\n",
      "\n",
      "Set default assay to SCT\n",
      "\n"
     ]
    }
   ],
   "source": [
    "sct <- SCTransform(obj, do.scale=TRUE, return.only.var=FALSE)\n",
    "write.table(as.matrix(GetAssayData(object = sct, assay.type = \"SCT\", slot = \"scale.data\")), \n",
    "            'seurat_scale.csv', sep = ',', row.names = T, col.names = T, quote = F)\n",
    "write.table(as.matrix(GetAssayData(object = sct, assay.type = \"SCT\", slot = \"counts\")), \n",
    "            'seurat_count.csv', sep = ',', row.names = T, col.names = T, quote = F)\n",
    "write.table(as.matrix(GetAssayData(object = sct, assay.type = \"SCT\", slot = \"data\")), \n",
    "            'seurat_norm.csv', sep = ',', row.names = T, col.names = T, quote = F)"
   ]
  },
  {
   "cell_type": "code",
   "execution_count": 5,
   "id": "certified-breast",
   "metadata": {},
   "outputs": [
    {
     "name": "stderr",
     "output_type": "stream",
     "text": [
      "Calculating cell attributes from input UMI matrix: log_umi\n",
      "\n",
      "Variance stabilizing transformation of count matrix of size 10329 by 2382\n",
      "\n",
      "Model formula is y ~ log_umi\n",
      "\n",
      "Get Negative Binomial regression parameters per gene\n",
      "\n",
      "Using 2000 genes, 2382 cells\n",
      "\n"
     ]
    },
    {
     "name": "stdout",
     "output_type": "stream",
     "text": [
      "  |======================================================================| 100%\n"
     ]
    },
    {
     "name": "stderr",
     "output_type": "stream",
     "text": [
      "Found 129 outliers - those will be ignored in fitting/regularization step\n",
      "\n",
      "\n",
      "Second step: Get residuals using fitted parameters for 10329 genes\n",
      "\n"
     ]
    },
    {
     "name": "stdout",
     "output_type": "stream",
     "text": [
      "  |======================================================================| 100%\n"
     ]
    },
    {
     "name": "stderr",
     "output_type": "stream",
     "text": [
      "Computing corrected count matrix for 10329 genes\n",
      "\n"
     ]
    },
    {
     "name": "stdout",
     "output_type": "stream",
     "text": [
      "  |======================================================================| 100%\n"
     ]
    },
    {
     "name": "stderr",
     "output_type": "stream",
     "text": [
      "Calculating gene attributes\n",
      "\n",
      "Wall clock passed: Time difference of 19.86681 secs\n",
      "\n",
      "Determine variable features\n",
      "\n",
      "Place corrected count matrix in counts slot\n",
      "\n",
      "Centering and scaling data matrix\n",
      "\n",
      "Set default assay to SCT\n",
      "\n"
     ]
    }
   ],
   "source": [
    "sct_var <- SCTransform(obj, do.scale=TRUE, return.only.var=TRUE)\n",
    "write.table(as.matrix(GetAssayData(object = sct_var, assay.type = \"SCT\", slot = \"scale.data\")), \n",
    "            'seurat_var.csv', sep = ',', row.names = T, col.names = T, quote = F)"
   ]
  },
  {
   "cell_type": "code",
   "execution_count": 6,
   "id": "optional-portland",
   "metadata": {},
   "outputs": [],
   "source": [
    "res = c(0,0.1,0.2,0.3,0.4,0.5,0.6,0.7,0.8,0.9,1)\n",
    "sct_var <- RunPCA(sct_var, verbose = FALSE)\n",
    "sct_var <- FindNeighbors(sct_var, dims = 1:30, verbose = FALSE)\n",
    "sct_var <- RunUMAP(sct_var, dims = 1:30, verbose = FALSE, n.components = 3L)"
   ]
  },
  {
   "cell_type": "code",
   "execution_count": 7,
   "id": "protective-initial",
   "metadata": {
    "scrolled": true
   },
   "outputs": [],
   "source": [
    "write.table(Embeddings(sct_var, reduction = \"pca\"), \n",
    "            'seurat_pca.csv', sep = ',', row.names = T, col.names = T, quote = F)\n",
    "write.table(Embeddings(sct_var, reduction = \"umap\"), \n",
    "            'seurat_umap.csv', sep = ',', row.names = T, col.names = T, quote = F)"
   ]
  },
  {
   "cell_type": "code",
   "execution_count": 8,
   "id": "opposed-double",
   "metadata": {},
   "outputs": [],
   "source": [
    "for(i in 1:length(res)) {\n",
    "  sct_var <- FindClusters(sct_var, verbose = FALSE, resolution = res[i])\n",
    "}\n",
    "\n",
    "write.table(sct_var@meta.data, 'seurat_metadata.csv', sep = ',', row.names = T, col.names = T, quote = F)"
   ]
  },
  {
   "cell_type": "code",
   "execution_count": 9,
   "id": "ignored-division",
   "metadata": {
    "scrolled": false
   },
   "outputs": [
    {
     "name": "stderr",
     "output_type": "stream",
     "text": [
      "Calculating cluster 0\n",
      "\n",
      "Calculating cluster 0\n",
      "\n",
      "Calculating cluster 1\n",
      "\n",
      "Calculating cluster 2\n",
      "\n",
      "Calculating cluster 3\n",
      "\n",
      "Calculating cluster 4\n",
      "\n",
      "Calculating cluster 5\n",
      "\n",
      "Calculating cluster 6\n",
      "\n",
      "Calculating cluster 0\n",
      "\n",
      "Calculating cluster 1\n",
      "\n",
      "Calculating cluster 2\n",
      "\n",
      "Calculating cluster 3\n",
      "\n",
      "Calculating cluster 4\n",
      "\n",
      "Calculating cluster 5\n",
      "\n",
      "Calculating cluster 6\n",
      "\n",
      "Calculating cluster 7\n",
      "\n",
      "Calculating cluster 8\n",
      "\n",
      "Calculating cluster 9\n",
      "\n",
      "Calculating cluster 10\n",
      "\n",
      "Calculating cluster 0\n",
      "\n",
      "Calculating cluster 1\n",
      "\n",
      "Calculating cluster 2\n",
      "\n",
      "Calculating cluster 3\n",
      "\n",
      "Calculating cluster 4\n",
      "\n",
      "Calculating cluster 5\n",
      "\n",
      "Calculating cluster 6\n",
      "\n",
      "Calculating cluster 7\n",
      "\n",
      "Calculating cluster 8\n",
      "\n",
      "Calculating cluster 9\n",
      "\n",
      "Calculating cluster 10\n",
      "\n",
      "Calculating cluster 11\n",
      "\n",
      "Calculating cluster 0\n",
      "\n",
      "Calculating cluster 1\n",
      "\n",
      "Calculating cluster 2\n",
      "\n",
      "Calculating cluster 3\n",
      "\n",
      "Calculating cluster 4\n",
      "\n",
      "Calculating cluster 5\n",
      "\n",
      "Calculating cluster 6\n",
      "\n",
      "Calculating cluster 7\n",
      "\n",
      "Calculating cluster 8\n",
      "\n",
      "Calculating cluster 9\n",
      "\n",
      "Calculating cluster 10\n",
      "\n",
      "Calculating cluster 11\n",
      "\n",
      "Calculating cluster 12\n",
      "\n",
      "Calculating cluster 13\n",
      "\n",
      "Calculating cluster 14\n",
      "\n",
      "Calculating cluster 0\n",
      "\n",
      "Calculating cluster 1\n",
      "\n",
      "Calculating cluster 2\n",
      "\n",
      "Calculating cluster 3\n",
      "\n",
      "Calculating cluster 4\n",
      "\n",
      "Calculating cluster 5\n",
      "\n",
      "Calculating cluster 6\n",
      "\n",
      "Calculating cluster 7\n",
      "\n",
      "Calculating cluster 8\n",
      "\n",
      "Calculating cluster 9\n",
      "\n",
      "Calculating cluster 10\n",
      "\n",
      "Calculating cluster 11\n",
      "\n",
      "Calculating cluster 12\n",
      "\n",
      "Calculating cluster 13\n",
      "\n",
      "Calculating cluster 14\n",
      "\n",
      "Calculating cluster 0\n",
      "\n",
      "Calculating cluster 1\n",
      "\n",
      "Calculating cluster 2\n",
      "\n",
      "Calculating cluster 3\n",
      "\n",
      "Calculating cluster 4\n",
      "\n",
      "Calculating cluster 5\n",
      "\n",
      "Calculating cluster 6\n",
      "\n",
      "Calculating cluster 7\n",
      "\n",
      "Calculating cluster 8\n",
      "\n",
      "Calculating cluster 9\n",
      "\n",
      "Calculating cluster 10\n",
      "\n",
      "Calculating cluster 11\n",
      "\n",
      "Calculating cluster 12\n",
      "\n",
      "Calculating cluster 13\n",
      "\n",
      "Calculating cluster 14\n",
      "\n",
      "Calculating cluster 0\n",
      "\n",
      "Calculating cluster 1\n",
      "\n",
      "Calculating cluster 2\n",
      "\n",
      "Calculating cluster 3\n",
      "\n",
      "Calculating cluster 4\n",
      "\n",
      "Calculating cluster 5\n",
      "\n",
      "Calculating cluster 6\n",
      "\n",
      "Calculating cluster 7\n",
      "\n",
      "Calculating cluster 8\n",
      "\n",
      "Calculating cluster 9\n",
      "\n",
      "Calculating cluster 10\n",
      "\n",
      "Calculating cluster 11\n",
      "\n",
      "Calculating cluster 12\n",
      "\n",
      "Calculating cluster 13\n",
      "\n",
      "Calculating cluster 14\n",
      "\n",
      "Calculating cluster 15\n",
      "\n",
      "Calculating cluster 0\n",
      "\n",
      "Calculating cluster 1\n",
      "\n",
      "Calculating cluster 2\n",
      "\n",
      "Calculating cluster 3\n",
      "\n",
      "Calculating cluster 4\n",
      "\n",
      "Calculating cluster 5\n",
      "\n",
      "Calculating cluster 6\n",
      "\n",
      "Calculating cluster 7\n",
      "\n",
      "Calculating cluster 8\n",
      "\n",
      "Calculating cluster 9\n",
      "\n",
      "Calculating cluster 10\n",
      "\n",
      "Calculating cluster 11\n",
      "\n",
      "Calculating cluster 12\n",
      "\n",
      "Calculating cluster 13\n",
      "\n",
      "Calculating cluster 14\n",
      "\n",
      "Calculating cluster 15\n",
      "\n",
      "Calculating cluster 0\n",
      "\n",
      "Calculating cluster 1\n",
      "\n",
      "Calculating cluster 2\n",
      "\n",
      "Calculating cluster 3\n",
      "\n",
      "Calculating cluster 4\n",
      "\n",
      "Calculating cluster 5\n",
      "\n",
      "Calculating cluster 6\n",
      "\n",
      "Calculating cluster 7\n",
      "\n",
      "Calculating cluster 8\n",
      "\n",
      "Calculating cluster 9\n",
      "\n",
      "Calculating cluster 10\n",
      "\n",
      "Calculating cluster 11\n",
      "\n",
      "Calculating cluster 12\n",
      "\n",
      "Calculating cluster 13\n",
      "\n",
      "Calculating cluster 14\n",
      "\n",
      "Calculating cluster 15\n",
      "\n",
      "Calculating cluster 16\n",
      "\n",
      "Calculating cluster 17\n",
      "\n",
      "Calculating cluster 0\n",
      "\n",
      "Calculating cluster 1\n",
      "\n",
      "Calculating cluster 2\n",
      "\n",
      "Calculating cluster 3\n",
      "\n",
      "Calculating cluster 4\n",
      "\n",
      "Calculating cluster 5\n",
      "\n",
      "Calculating cluster 6\n",
      "\n",
      "Calculating cluster 7\n",
      "\n",
      "Calculating cluster 8\n",
      "\n",
      "Calculating cluster 9\n",
      "\n",
      "Calculating cluster 10\n",
      "\n",
      "Calculating cluster 11\n",
      "\n",
      "Calculating cluster 12\n",
      "\n",
      "Calculating cluster 13\n",
      "\n",
      "Calculating cluster 14\n",
      "\n",
      "Calculating cluster 15\n",
      "\n",
      "Calculating cluster 16\n",
      "\n",
      "Calculating cluster 17\n",
      "\n"
     ]
    }
   ],
   "source": [
    "for(i in 1:length(res)) {\n",
    "    Idents(sct_var) = paste(\"SCT_snn_res.\", res[i], sep = \"\")\n",
    "    res_seurat = FindAllMarkers(sct_var, logfc.threshold = 0.25, min.pct = 0.25)\n",
    "    write.table(res_seurat, file=paste(\"seurat_diff_SCT_snn_res.\", res[i], \".csv\", sep = \"\"),\n",
    "                sep = ',', row.names = T, col.names = T, quote = F)\n",
    "}"
   ]
  },
  {
   "cell_type": "code",
   "execution_count": 11,
   "id": "acquired-bedroom",
   "metadata": {},
   "outputs": [
    {
     "name": "stderr",
     "output_type": "stream",
     "text": [
      "Calculating cluster 6\n",
      "\n",
      "Calculating cluster 7\n",
      "\n",
      "Calculating cluster 4\n",
      "\n",
      "Calculating cluster 3\n",
      "\n",
      "Calculating cluster 5\n",
      "\n",
      "Calculating cluster 2\n",
      "\n",
      "Calculating cluster 1\n",
      "\n"
     ]
    }
   ],
   "source": [
    "Idents(sct_var) = \"image_clusters\"\n",
    "res_seurat = FindAllMarkers(sct_var, logfc.threshold = 0.25, min.pct = 0.25)\n",
    "write.table(res_seurat, file=\"seurat_diff_image_clusters.csv\",\n",
    "            sep = ',', row.names = T, col.names = T, quote = F)"
   ]
  },
  {
   "cell_type": "code",
   "execution_count": null,
   "id": "accepting-arrival",
   "metadata": {},
   "outputs": [],
   "source": []
  }
 ],
 "metadata": {
  "kernelspec": {
   "display_name": "R",
   "language": "R",
   "name": "ir"
  },
  "language_info": {
   "codemirror_mode": "r",
   "file_extension": ".r",
   "mimetype": "text/x-r-source",
   "name": "R",
   "pygments_lexer": "r",
   "version": "4.0.3"
  }
 },
 "nbformat": 4,
 "nbformat_minor": 5
}
